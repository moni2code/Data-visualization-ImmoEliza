{
 "cells": [
  {
   "attachments": {},
   "cell_type": "markdown",
   "metadata": {},
   "source": [
    "# Regression"
   ]
  },
  {
   "attachments": {},
   "cell_type": "markdown",
   "metadata": {},
   "source": [
    "### Importing all the required libraries"
   ]
  },
  {
   "cell_type": "code",
   "execution_count": 1,
   "metadata": {},
   "outputs": [],
   "source": [
    "import pandas as pd\n",
    "import numpy as np\n",
    "import seaborn as sns\n",
    "import matplotlib.pyplot as plt"
   ]
  },
  {
   "attachments": {},
   "cell_type": "markdown",
   "metadata": {},
   "source": [
    "### Importing the csv file"
   ]
  },
  {
   "cell_type": "code",
   "execution_count": 29,
   "metadata": {},
   "outputs": [
    {
     "data": {
      "text/plain": [
       "(10051, 28)"
      ]
     },
     "execution_count": 29,
     "metadata": {},
     "output_type": "execute_result"
    }
   ],
   "source": [
    "df = pd.read_csv(\"../data/house_details_v1.csv\")\n",
    "df = df[df[\"Price\"] != 0]\n",
    "df.shape"
   ]
  },
  {
   "attachments": {},
   "cell_type": "markdown",
   "metadata": {},
   "source": [
    "### printing first five rows"
   ]
  },
  {
   "cell_type": "code",
   "execution_count": 31,
   "metadata": {},
   "outputs": [
    {
     "data": {
      "text/html": [
       "<div>\n",
       "<style scoped>\n",
       "    .dataframe tbody tr th:only-of-type {\n",
       "        vertical-align: middle;\n",
       "    }\n",
       "\n",
       "    .dataframe tbody tr th {\n",
       "        vertical-align: top;\n",
       "    }\n",
       "\n",
       "    .dataframe thead th {\n",
       "        text-align: right;\n",
       "    }\n",
       "</style>\n",
       "<table border=\"1\" class=\"dataframe\">\n",
       "  <thead>\n",
       "    <tr style=\"text-align: right;\">\n",
       "      <th></th>\n",
       "      <th>id</th>\n",
       "      <th>Street</th>\n",
       "      <th>Housenumber</th>\n",
       "      <th>Box</th>\n",
       "      <th>Floor</th>\n",
       "      <th>City</th>\n",
       "      <th>Postalcode</th>\n",
       "      <th>Property type</th>\n",
       "      <th>Region</th>\n",
       "      <th>District</th>\n",
       "      <th>Subtype</th>\n",
       "      <th>Price</th>\n",
       "      <th>Type of sale</th>\n",
       "      <th>Construction year</th>\n",
       "      <th>Bedroom Count</th>\n",
       "      <th>Habitable surface</th>\n",
       "      <th>Kitchen type</th>\n",
       "      <th>Furnished</th>\n",
       "      <th>Fireplace</th>\n",
       "      <th>Terrace</th>\n",
       "      <th>Garden</th>\n",
       "      <th>Garden surface</th>\n",
       "      <th>Facades</th>\n",
       "      <th>SwimmingPool</th>\n",
       "      <th>Condition</th>\n",
       "      <th>EPC score</th>\n",
       "      <th>Latitude</th>\n",
       "      <th>Longitude</th>\n",
       "    </tr>\n",
       "  </thead>\n",
       "  <tbody>\n",
       "    <tr>\n",
       "      <th>0</th>\n",
       "      <td>10681697</td>\n",
       "      <td>Rue Colompré</td>\n",
       "      <td>108</td>\n",
       "      <td>0</td>\n",
       "      <td>0.0</td>\n",
       "      <td>Liege</td>\n",
       "      <td>4020</td>\n",
       "      <td>RESIDENTIAL</td>\n",
       "      <td>WALLONIE</td>\n",
       "      <td>Liège</td>\n",
       "      <td>HOUSE</td>\n",
       "      <td>149000.0</td>\n",
       "      <td>residential_sale</td>\n",
       "      <td>1899.0</td>\n",
       "      <td>4.0</td>\n",
       "      <td>137.0</td>\n",
       "      <td>INSTALLED</td>\n",
       "      <td>True</td>\n",
       "      <td>False</td>\n",
       "      <td>True</td>\n",
       "      <td>0</td>\n",
       "      <td>110.0</td>\n",
       "      <td>2.0</td>\n",
       "      <td>False</td>\n",
       "      <td>GOOD</td>\n",
       "      <td>F</td>\n",
       "      <td>50.640237</td>\n",
       "      <td>5.599121</td>\n",
       "    </tr>\n",
       "    <tr>\n",
       "      <th>1</th>\n",
       "      <td>10676490</td>\n",
       "      <td>drève du parc</td>\n",
       "      <td>45</td>\n",
       "      <td>0</td>\n",
       "      <td>1.0</td>\n",
       "      <td>Bruxelles</td>\n",
       "      <td>1000</td>\n",
       "      <td>URBAN</td>\n",
       "      <td>BRUSSELS</td>\n",
       "      <td>Brussels</td>\n",
       "      <td>APARTMENT</td>\n",
       "      <td>330000.0</td>\n",
       "      <td>residential_sale</td>\n",
       "      <td>2025.0</td>\n",
       "      <td>2.0</td>\n",
       "      <td>91.0</td>\n",
       "      <td>USA_INSTALLED</td>\n",
       "      <td>0</td>\n",
       "      <td>False</td>\n",
       "      <td>True</td>\n",
       "      <td>0</td>\n",
       "      <td>0.0</td>\n",
       "      <td>4.0</td>\n",
       "      <td>False</td>\n",
       "      <td>AS_NEW</td>\n",
       "      <td>A</td>\n",
       "      <td>50.866596</td>\n",
       "      <td>4.344900</td>\n",
       "    </tr>\n",
       "    <tr>\n",
       "      <th>2</th>\n",
       "      <td>10675312</td>\n",
       "      <td>Boulevard du Triomphe</td>\n",
       "      <td>201</td>\n",
       "      <td>B42</td>\n",
       "      <td>4.0</td>\n",
       "      <td>Auderghem</td>\n",
       "      <td>1160</td>\n",
       "      <td>URBAN</td>\n",
       "      <td>BRUSSELS</td>\n",
       "      <td>Brussels</td>\n",
       "      <td>FLAT_STUDIO</td>\n",
       "      <td>255500.0</td>\n",
       "      <td>residential_sale</td>\n",
       "      <td>2022.0</td>\n",
       "      <td>0.0</td>\n",
       "      <td>46.0</td>\n",
       "      <td>USA_HYPER_EQUIPPED</td>\n",
       "      <td>False</td>\n",
       "      <td>False</td>\n",
       "      <td>True</td>\n",
       "      <td>0</td>\n",
       "      <td>0.0</td>\n",
       "      <td>0.0</td>\n",
       "      <td>False</td>\n",
       "      <td>AS_NEW</td>\n",
       "      <td>A</td>\n",
       "      <td>50.816396</td>\n",
       "      <td>4.398940</td>\n",
       "    </tr>\n",
       "    <tr>\n",
       "      <th>3</th>\n",
       "      <td>10681830</td>\n",
       "      <td>Rue du Vieux Chemin</td>\n",
       "      <td>37</td>\n",
       "      <td>11</td>\n",
       "      <td>1.0</td>\n",
       "      <td>Embourg</td>\n",
       "      <td>4053</td>\n",
       "      <td>0</td>\n",
       "      <td>WALLONIE</td>\n",
       "      <td>Liège</td>\n",
       "      <td>APARTMENT</td>\n",
       "      <td>399000.0</td>\n",
       "      <td>residential_sale</td>\n",
       "      <td>2010.0</td>\n",
       "      <td>3.0</td>\n",
       "      <td>145.0</td>\n",
       "      <td>INSTALLED</td>\n",
       "      <td>0</td>\n",
       "      <td>True</td>\n",
       "      <td>True</td>\n",
       "      <td>0</td>\n",
       "      <td>0.0</td>\n",
       "      <td>3.0</td>\n",
       "      <td>0</td>\n",
       "      <td>GOOD</td>\n",
       "      <td>B</td>\n",
       "      <td>50.598571</td>\n",
       "      <td>5.618877</td>\n",
       "    </tr>\n",
       "    <tr>\n",
       "      <th>4</th>\n",
       "      <td>10681832</td>\n",
       "      <td>Rue du Vieux Chemin</td>\n",
       "      <td>37</td>\n",
       "      <td>11</td>\n",
       "      <td>1.0</td>\n",
       "      <td>Embourg</td>\n",
       "      <td>4053</td>\n",
       "      <td>0</td>\n",
       "      <td>WALLONIE</td>\n",
       "      <td>Liège</td>\n",
       "      <td>PENTHOUSE</td>\n",
       "      <td>399000.0</td>\n",
       "      <td>residential_sale</td>\n",
       "      <td>2010.0</td>\n",
       "      <td>3.0</td>\n",
       "      <td>145.0</td>\n",
       "      <td>INSTALLED</td>\n",
       "      <td>0</td>\n",
       "      <td>True</td>\n",
       "      <td>True</td>\n",
       "      <td>0</td>\n",
       "      <td>0.0</td>\n",
       "      <td>3.0</td>\n",
       "      <td>0</td>\n",
       "      <td>GOOD</td>\n",
       "      <td>B</td>\n",
       "      <td>50.598571</td>\n",
       "      <td>5.618877</td>\n",
       "    </tr>\n",
       "  </tbody>\n",
       "</table>\n",
       "</div>"
      ],
      "text/plain": [
       "         id                 Street Housenumber  Box  Floor       City  \\\n",
       "0  10681697           Rue Colompré         108    0    0.0      Liege   \n",
       "1  10676490          drève du parc          45    0    1.0  Bruxelles   \n",
       "2  10675312  Boulevard du Triomphe         201  B42    4.0  Auderghem   \n",
       "3  10681830    Rue du Vieux Chemin          37   11    1.0    Embourg   \n",
       "4  10681832    Rue du Vieux Chemin          37   11    1.0    Embourg   \n",
       "\n",
       "  Postalcode Property type    Region  District      Subtype     Price  \\\n",
       "0       4020   RESIDENTIAL  WALLONIE     Liège        HOUSE  149000.0   \n",
       "1       1000         URBAN  BRUSSELS  Brussels    APARTMENT  330000.0   \n",
       "2       1160         URBAN  BRUSSELS  Brussels  FLAT_STUDIO  255500.0   \n",
       "3       4053             0  WALLONIE     Liège    APARTMENT  399000.0   \n",
       "4       4053             0  WALLONIE     Liège    PENTHOUSE  399000.0   \n",
       "\n",
       "       Type of sale  Construction year  Bedroom Count  Habitable surface  \\\n",
       "0  residential_sale             1899.0            4.0              137.0   \n",
       "1  residential_sale             2025.0            2.0               91.0   \n",
       "2  residential_sale             2022.0            0.0               46.0   \n",
       "3  residential_sale             2010.0            3.0              145.0   \n",
       "4  residential_sale             2010.0            3.0              145.0   \n",
       "\n",
       "         Kitchen type Furnished  Fireplace Terrace Garden  Garden surface  \\\n",
       "0           INSTALLED      True      False    True      0           110.0   \n",
       "1       USA_INSTALLED         0      False    True      0             0.0   \n",
       "2  USA_HYPER_EQUIPPED     False      False    True      0             0.0   \n",
       "3           INSTALLED         0       True    True      0             0.0   \n",
       "4           INSTALLED         0       True    True      0             0.0   \n",
       "\n",
       "   Facades SwimmingPool Condition EPC score   Latitude  Longitude  \n",
       "0      2.0        False      GOOD         F  50.640237   5.599121  \n",
       "1      4.0        False    AS_NEW         A  50.866596   4.344900  \n",
       "2      0.0        False    AS_NEW         A  50.816396   4.398940  \n",
       "3      3.0            0      GOOD         B  50.598571   5.618877  \n",
       "4      3.0            0      GOOD         B  50.598571   5.618877  "
      ]
     },
     "metadata": {},
     "output_type": "display_data"
    }
   ],
   "source": [
    "pd.set_option('display.max_rows',100)\n",
    "pd.set_option('display.max_columns', 28)\n",
    "display(df.head())"
   ]
  },
  {
   "cell_type": "markdown",
   "metadata": {},
   "source": []
  },
  {
   "cell_type": "code",
   "execution_count": 30,
   "metadata": {},
   "outputs": [
    {
     "name": "stdout",
     "output_type": "stream",
     "text": [
      "<class 'pandas.core.frame.DataFrame'>\n",
      "Index: 10051 entries, 0 to 10795\n",
      "Data columns (total 28 columns):\n",
      " #   Column             Non-Null Count  Dtype  \n",
      "---  ------             --------------  -----  \n",
      " 0   id                 10051 non-null  int64  \n",
      " 1   Street             10051 non-null  object \n",
      " 2   Housenumber        10051 non-null  object \n",
      " 3   Box                10051 non-null  object \n",
      " 4   Floor              10051 non-null  float64\n",
      " 5   City               10051 non-null  object \n",
      " 6   Postalcode         10051 non-null  object \n",
      " 7   Property type      10051 non-null  object \n",
      " 8   Region             10051 non-null  object \n",
      " 9   District           10051 non-null  object \n",
      " 10  Subtype            10051 non-null  object \n",
      " 11  Price              10051 non-null  float64\n",
      " 12  Type of sale       10051 non-null  object \n",
      " 13  Construction year  10051 non-null  float64\n",
      " 14  Bedroom Count      10051 non-null  float64\n",
      " 15  Habitable surface  10051 non-null  float64\n",
      " 16  Kitchen type       10051 non-null  object \n",
      " 17  Furnished          10051 non-null  object \n",
      " 18  Fireplace          10051 non-null  bool   \n",
      " 19  Terrace            10051 non-null  object \n",
      " 20  Garden             10051 non-null  object \n",
      " 21  Garden surface     10051 non-null  float64\n",
      " 22  Facades            10051 non-null  float64\n",
      " 23  SwimmingPool       10051 non-null  object \n",
      " 24  Condition          10051 non-null  object \n",
      " 25  EPC score          10051 non-null  object \n",
      " 26  Latitude           10051 non-null  float64\n",
      " 27  Longitude          10051 non-null  float64\n",
      "dtypes: bool(1), float64(9), int64(1), object(17)\n",
      "memory usage: 2.2+ MB\n"
     ]
    }
   ],
   "source": [
    "df.info()"
   ]
  },
  {
   "cell_type": "code",
   "execution_count": 32,
   "metadata": {},
   "outputs": [
    {
     "data": {
      "text/plain": [
       "(8357, 28)"
      ]
     },
     "execution_count": 32,
     "metadata": {},
     "output_type": "execute_result"
    }
   ],
   "source": [
    "# dropping duplicates\n",
    "df = df.drop_duplicates(subset=[\n",
    " 'Street',\n",
    " 'Housenumber',\n",
    " 'Box',\n",
    " 'Floor',\n",
    " 'City',\n",
    " 'Postalcode',\n",
    " 'Property type',\n",
    " 'Region',\n",
    " 'District',\n",
    " 'Latitude',\n",
    " 'Longitude'])\n",
    "df.shape"
   ]
  },
  {
   "cell_type": "code",
   "execution_count": 33,
   "metadata": {},
   "outputs": [
    {
     "data": {
      "image/png": "[encoded data removed]",
      "text/plain": [
       "<Figure size 500x500 with 1 Axes>"
      ]
     },
     "metadata": {},
     "output_type": "display_data"
    }
   ],
   "source": [
    "# plotting price vs number of bedroom\n",
    "bedcount_df = df[[\"Bedroom Count\",\"Price\"]]\n",
    "filtered_df = bedcount_df[(df[\"Bedroom Count\"]<40) & (df[\"Price\"]<800000)]\n",
    "sns.relplot(x=\"Bedroom Count\", y=\"Price\", data=filtered_df, kind=\"scatter\")\n",
    "plt.show()"
   ]
  },
  {
   "cell_type": "code",
   "execution_count": 34,
   "metadata": {},
   "outputs": [
    {
     "data": {
      "text/html": [
       "<div>\n",
       "<style scoped>\n",
       "    .dataframe tbody tr th:only-of-type {\n",
       "        vertical-align: middle;\n",
       "    }\n",
       "\n",
       "    .dataframe tbody tr th {\n",
       "        vertical-align: top;\n",
       "    }\n",
       "\n",
       "    .dataframe thead th {\n",
       "        text-align: right;\n",
       "    }\n",
       "</style>\n",
       "<table border=\"1\" class=\"dataframe\">\n",
       "  <thead>\n",
       "    <tr style=\"text-align: right;\">\n",
       "      <th></th>\n",
       "      <th>Bedroom Count</th>\n",
       "      <th>Price</th>\n",
       "    </tr>\n",
       "  </thead>\n",
       "  <tbody>\n",
       "    <tr>\n",
       "      <th>0</th>\n",
       "      <td>4.0</td>\n",
       "      <td>149000.0</td>\n",
       "    </tr>\n",
       "    <tr>\n",
       "      <th>1</th>\n",
       "      <td>2.0</td>\n",
       "      <td>330000.0</td>\n",
       "    </tr>\n",
       "    <tr>\n",
       "      <th>2</th>\n",
       "      <td>0.0</td>\n",
       "      <td>255500.0</td>\n",
       "    </tr>\n",
       "    <tr>\n",
       "      <th>3</th>\n",
       "      <td>3.0</td>\n",
       "      <td>399000.0</td>\n",
       "    </tr>\n",
       "    <tr>\n",
       "      <th>7</th>\n",
       "      <td>2.0</td>\n",
       "      <td>361000.0</td>\n",
       "    </tr>\n",
       "  </tbody>\n",
       "</table>\n",
       "</div>"
      ],
      "text/plain": [
       "   Bedroom Count     Price\n",
       "0            4.0  149000.0\n",
       "1            2.0  330000.0\n",
       "2            0.0  255500.0\n",
       "3            3.0  399000.0\n",
       "7            2.0  361000.0"
      ]
     },
     "execution_count": 34,
     "metadata": {},
     "output_type": "execute_result"
    }
   ],
   "source": [
    "filtered_df.head()"
   ]
  },
  {
   "cell_type": "code",
   "execution_count": 35,
   "metadata": {},
   "outputs": [
    {
     "data": {
      "text/html": [
       "<div>\n",
       "<style scoped>\n",
       "    .dataframe tbody tr th:only-of-type {\n",
       "        vertical-align: middle;\n",
       "    }\n",
       "\n",
       "    .dataframe tbody tr th {\n",
       "        vertical-align: top;\n",
       "    }\n",
       "\n",
       "    .dataframe thead th {\n",
       "        text-align: right;\n",
       "    }\n",
       "</style>\n",
       "<table border=\"1\" class=\"dataframe\">\n",
       "  <thead>\n",
       "    <tr style=\"text-align: right;\">\n",
       "      <th></th>\n",
       "      <th>Bedroom Count</th>\n",
       "      <th>Price</th>\n",
       "    </tr>\n",
       "  </thead>\n",
       "  <tbody>\n",
       "    <tr>\n",
       "      <th>Bedroom Count</th>\n",
       "      <td>1.000000</td>\n",
       "      <td>0.430388</td>\n",
       "    </tr>\n",
       "    <tr>\n",
       "      <th>Price</th>\n",
       "      <td>0.430388</td>\n",
       "      <td>1.000000</td>\n",
       "    </tr>\n",
       "  </tbody>\n",
       "</table>\n",
       "</div>"
      ],
      "text/plain": [
       "               Bedroom Count     Price\n",
       "Bedroom Count       1.000000  0.430388\n",
       "Price               0.430388  1.000000"
      ]
     },
     "execution_count": 35,
     "metadata": {},
     "output_type": "execute_result"
    }
   ],
   "source": [
    "filtered_df.corr()"
   ]
  },
  {
   "cell_type": "code",
   "execution_count": 38,
   "metadata": {},
   "outputs": [
    {
     "name": "stdout",
     "output_type": "stream",
     "text": [
      "Shape of X: (7634, 1)\n",
      "Shape of y: (7634, 1)\n"
     ]
    }
   ],
   "source": [
    "# creating matrices for dependent and independent variable\n",
    "X = filtered_df.drop(columns=[\"Price\"]).to_numpy()\n",
    "y = filtered_df.Price.to_numpy().reshape(-1,1)\n",
    "\n",
    "print(\"Shape of X:\",X.shape)\n",
    "print(\"Shape of y:\",y.shape)"
   ]
  },
  {
   "attachments": {},
   "cell_type": "markdown",
   "metadata": {},
   "source": [
    "### Splitting the dataset"
   ]
  },
  {
   "cell_type": "code",
   "execution_count": 52,
   "metadata": {},
   "outputs": [],
   "source": [
    "from sklearn.model_selection import train_test_split\n",
    "X_train, X_test, y_train, y_test = train_test_split(X, y, test_size=0.2, random_state=40)\n",
    "\n"
   ]
  },
  {
   "attachments": {},
   "cell_type": "markdown",
   "metadata": {},
   "source": [
    "#### Training the model"
   ]
  },
  {
   "cell_type": "code",
   "execution_count": 53,
   "metadata": {},
   "outputs": [
    {
     "data": {
      "text/html": [
       "<style>#sk-container-id-5 {color: black;}#sk-container-id-5 pre{padding: 0;}#sk-container-id-5 div.sk-toggleable {background-color: white;}#sk-container-id-5 label.sk-toggleable__label {cursor: pointer;display: block;width: 100%;margin-bottom: 0;padding: 0.3em;box-sizing: border-box;text-align: center;}#sk-container-id-5 label.sk-toggleable__label-arrow:before {content: \"▸\";float: left;margin-right: 0.25em;color: #696969;}#sk-container-id-5 label.sk-toggleable__label-arrow:hover:before {color: black;}#sk-container-id-5 div.sk-estimator:hover label.sk-toggleable__label-arrow:before {color: black;}#sk-container-id-5 div.sk-toggleable__content {max-height: 0;max-width: 0;overflow: hidden;text-align: left;background-color: #f0f8ff;}#sk-container-id-5 div.sk-toggleable__content pre {margin: 0.2em;color: black;border-radius: 0.25em;background-color: #f0f8ff;}#sk-container-id-5 input.sk-toggleable__control:checked~div.sk-toggleable__content {max-height: 200px;max-width: 100%;overflow: auto;}#sk-container-id-5 input.sk-toggleable__control:checked~label.sk-toggleable__label-arrow:before {content: \"▾\";}#sk-container-id-5 div.sk-estimator input.sk-toggleable__control:checked~label.sk-toggleable__label {background-color: #d4ebff;}#sk-container-id-5 div.sk-label input.sk-toggleable__control:checked~label.sk-toggleable__label {background-color: #d4ebff;}#sk-container-id-5 input.sk-hidden--visually {border: 0;clip: rect(1px 1px 1px 1px);clip: rect(1px, 1px, 1px, 1px);height: 1px;margin: -1px;overflow: hidden;padding: 0;position: absolute;width: 1px;}#sk-container-id-5 div.sk-estimator {font-family: monospace;background-color: #f0f8ff;border: 1px dotted black;border-radius: 0.25em;box-sizing: border-box;margin-bottom: 0.5em;}#sk-container-id-5 div.sk-estimator:hover {background-color: #d4ebff;}#sk-container-id-5 div.sk-parallel-item::after {content: \"\";width: 100%;border-bottom: 1px solid gray;flex-grow: 1;}#sk-container-id-5 div.sk-label:hover label.sk-toggleable__label {background-color: #d4ebff;}#sk-container-id-5 div.sk-serial::before {content: \"\";position: absolute;border-left: 1px solid gray;box-sizing: border-box;top: 0;bottom: 0;left: 50%;z-index: 0;}#sk-container-id-5 div.sk-serial {display: flex;flex-direction: column;align-items: center;background-color: white;padding-right: 0.2em;padding-left: 0.2em;position: relative;}#sk-container-id-5 div.sk-item {position: relative;z-index: 1;}#sk-container-id-5 div.sk-parallel {display: flex;align-items: stretch;justify-content: center;background-color: white;position: relative;}#sk-container-id-5 div.sk-item::before, #sk-container-id-5 div.sk-parallel-item::before {content: \"\";position: absolute;border-left: 1px solid gray;box-sizing: border-box;top: 0;bottom: 0;left: 50%;z-index: -1;}#sk-container-id-5 div.sk-parallel-item {display: flex;flex-direction: column;z-index: 1;position: relative;background-color: white;}#sk-container-id-5 div.sk-parallel-item:first-child::after {align-self: flex-end;width: 50%;}#sk-container-id-5 div.sk-parallel-item:last-child::after {align-self: flex-start;width: 50%;}#sk-container-id-5 div.sk-parallel-item:only-child::after {width: 0;}#sk-container-id-5 div.sk-dashed-wrapped {border: 1px dashed gray;margin: 0 0.4em 0.5em 0.4em;box-sizing: border-box;padding-bottom: 0.4em;background-color: white;}#sk-container-id-5 div.sk-label label {font-family: monospace;font-weight: bold;display: inline-block;line-height: 1.2em;}#sk-container-id-5 div.sk-label-container {text-align: center;}#sk-container-id-5 div.sk-container {/* jupyter's `normalize.less` sets `[hidden] { display: none; }` but bootstrap.min.css set `[hidden] { display: none !important; }` so we also need the `!important` here to be able to override the default hidden behavior on the sphinx rendered scikit-learn.org. See: https://github.com/scikit-learn/scikit-learn/issues/21755 */display: inline-block !important;position: relative;}#sk-container-id-5 div.sk-text-repr-fallback {display: none;}</style><div id=\"sk-container-id-5\" class=\"sk-top-container\"><div class=\"sk-text-repr-fallback\"><pre>LinearRegression()</pre><b>In a Jupyter environment, please rerun this cell to show the HTML representation or trust the notebook. <br />On GitHub, the HTML representation is unable to render, please try loading this page with nbviewer.org.</b></div><div class=\"sk-container\" hidden><div class=\"sk-item\"><div class=\"sk-estimator sk-toggleable\"><input class=\"sk-toggleable__control sk-hidden--visually\" id=\"sk-estimator-id-5\" type=\"checkbox\" checked><label for=\"sk-estimator-id-5\" class=\"sk-toggleable__label sk-toggleable__label-arrow\">LinearRegression</label><div class=\"sk-toggleable__content\"><pre>LinearRegression()</pre></div></div></div></div></div>"
      ],
      "text/plain": [
       "LinearRegression()"
      ]
     },
     "execution_count": 53,
     "metadata": {},
     "output_type": "execute_result"
    }
   ],
   "source": [
    "from sklearn.linear_model import LinearRegression\n",
    "regressor = LinearRegression()\n",
    "regressor.fit(X_train, y_train)"
   ]
  },
  {
   "cell_type": "code",
   "execution_count": 54,
   "metadata": {},
   "outputs": [
    {
     "data": {
      "text/plain": [
       "0.17940074883944246"
      ]
     },
     "execution_count": 54,
     "metadata": {},
     "output_type": "execute_result"
    }
   ],
   "source": [
    "regressor.score(X_train, y_train)"
   ]
  },
  {
   "attachments": {},
   "cell_type": "markdown",
   "metadata": {},
   "source": [
    "#### Testing the model"
   ]
  },
  {
   "cell_type": "code",
   "execution_count": 55,
   "metadata": {},
   "outputs": [],
   "source": [
    "X_test = X_test.reshape(-1,1)\n",
    "y_test = y_test.reshape(-1,1)\n",
    "y_pred = regressor.predict(X_test)"
   ]
  },
  {
   "cell_type": "code",
   "execution_count": 56,
   "metadata": {},
   "outputs": [
    {
     "data": {
      "text/plain": [
       "0.20727184317093728"
      ]
     },
     "execution_count": 56,
     "metadata": {},
     "output_type": "execute_result"
    }
   ],
   "source": [
    "regressor.score(X_test, y_test)"
   ]
  }
 ],
 "metadata": {
  "kernelspec": {
   "display_name": "myvenv",
   "language": "python",
   "name": "python3"
  },
  "language_info": {
   "codemirror_mode": {
    "name": "ipython",
    "version": 3
   },
   "file_extension": ".py",
   "mimetype": "text/x-python",
   "name": "python",
   "nbconvert_exporter": "python",
   "pygments_lexer": "ipython3",
   "version": "3.9.5"
  },
  "orig_nbformat": 4
 },
 "nbformat": 4,
 "nbformat_minor": 2
}
