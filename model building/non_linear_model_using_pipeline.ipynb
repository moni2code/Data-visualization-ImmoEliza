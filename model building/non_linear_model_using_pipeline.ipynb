{
 "cells": [
  {
   "attachments": {},
   "cell_type": "markdown",
   "metadata": {},
   "source": [
    "### Importing all the required libraries"
   ]
  },
  {
   "cell_type": "code",
   "execution_count": 196,
   "metadata": {},
   "outputs": [],
   "source": [
    "import pandas as pd\n",
    "import numpy as np\n",
    "\n",
    "import seaborn as sns\n",
    "import matplotlib.pyplot as plt\n",
    "\n",
    "from sklearn.model_selection import train_test_split\n",
    "from sklearn.preprocessing import OneHotEncoder, StandardScaler\n",
    "from sklearn.impute import SimpleImputer\n",
    "from sklearn.compose import ColumnTransformer\n",
    "from sklearn.model_selection import cross_val_score\n",
    "from sklearn.pipeline import Pipeline\n",
    "from sklearn.tree import DecisionTreeClassifier\n",
    "from sklearn.ensemble import RandomForestClassifier\n"
   ]
  },
  {
   "cell_type": "code",
   "execution_count": 197,
   "metadata": {},
   "outputs": [
    {
     "data": {
      "text/plain": [
       "(19976, 31)"
      ]
     },
     "execution_count": 197,
     "metadata": {},
     "output_type": "execute_result"
    }
   ],
   "source": [
    "# importing the dataset\n",
    "df = pd.read_csv(\"../data/house_details_v3.csv\")\n",
    "\n",
    "df.shape"
   ]
  },
  {
   "attachments": {},
   "cell_type": "markdown",
   "metadata": {},
   "source": [
    "### Cleaning the dataset and removing null values"
   ]
  },
  {
   "cell_type": "code",
   "execution_count": 198,
   "metadata": {},
   "outputs": [
    {
     "data": {
      "text/plain": [
       "(17952, 31)"
      ]
     },
     "execution_count": 198,
     "metadata": {},
     "output_type": "execute_result"
    }
   ],
   "source": [
    "# dropping the rows with 0 price and 0 habitable surface\n",
    "df = df[(df[\"Price\"] != 0)&(df[\"Habitable surface\"] != 0.0)]\n",
    "df.shape"
   ]
  },
  {
   "cell_type": "code",
   "execution_count": 199,
   "metadata": {},
   "outputs": [
    {
     "data": {
      "text/html": [
       "<div>\n",
       "<style scoped>\n",
       "    .dataframe tbody tr th:only-of-type {\n",
       "        vertical-align: middle;\n",
       "    }\n",
       "\n",
       "    .dataframe tbody tr th {\n",
       "        vertical-align: top;\n",
       "    }\n",
       "\n",
       "    .dataframe thead th {\n",
       "        text-align: right;\n",
       "    }\n",
       "</style>\n",
       "<table border=\"1\" class=\"dataframe\">\n",
       "  <thead>\n",
       "    <tr style=\"text-align: right;\">\n",
       "      <th></th>\n",
       "      <th>id</th>\n",
       "      <th>Street</th>\n",
       "      <th>Housenumber</th>\n",
       "      <th>Box</th>\n",
       "      <th>Floor</th>\n",
       "      <th>City</th>\n",
       "      <th>Postalcode</th>\n",
       "      <th>Type</th>\n",
       "      <th>Subtype</th>\n",
       "      <th>Lacation area</th>\n",
       "      <th>...</th>\n",
       "      <th>Terrace</th>\n",
       "      <th>Garden</th>\n",
       "      <th>Garden surface</th>\n",
       "      <th>Facades</th>\n",
       "      <th>SwimmingPool</th>\n",
       "      <th>Condition</th>\n",
       "      <th>EPC score</th>\n",
       "      <th>Latitude</th>\n",
       "      <th>Longitude</th>\n",
       "      <th>Property url</th>\n",
       "    </tr>\n",
       "  </thead>\n",
       "  <tbody>\n",
       "    <tr>\n",
       "      <th>0</th>\n",
       "      <td>10683816</td>\n",
       "      <td>Egmont Park</td>\n",
       "      <td>11</td>\n",
       "      <td>0</td>\n",
       "      <td>2.0</td>\n",
       "      <td>Gavere</td>\n",
       "      <td>9890</td>\n",
       "      <td>APARTMENT</td>\n",
       "      <td>APARTMENT</td>\n",
       "      <td>URBAN</td>\n",
       "      <td>...</td>\n",
       "      <td>True</td>\n",
       "      <td>0</td>\n",
       "      <td>0.0</td>\n",
       "      <td>4.0</td>\n",
       "      <td>False</td>\n",
       "      <td>AS_NEW</td>\n",
       "      <td>A</td>\n",
       "      <td>50.928407</td>\n",
       "      <td>3.679605</td>\n",
       "      <td>https://www.immoweb.be/en/classified/apartment...</td>\n",
       "    </tr>\n",
       "    <tr>\n",
       "      <th>1</th>\n",
       "      <td>10683823</td>\n",
       "      <td>Egmont Park</td>\n",
       "      <td>11</td>\n",
       "      <td>0</td>\n",
       "      <td>1.0</td>\n",
       "      <td>Gavere</td>\n",
       "      <td>9890</td>\n",
       "      <td>APARTMENT</td>\n",
       "      <td>APARTMENT</td>\n",
       "      <td>URBAN</td>\n",
       "      <td>...</td>\n",
       "      <td>True</td>\n",
       "      <td>0</td>\n",
       "      <td>0.0</td>\n",
       "      <td>4.0</td>\n",
       "      <td>0</td>\n",
       "      <td>AS_NEW</td>\n",
       "      <td>A</td>\n",
       "      <td>50.928407</td>\n",
       "      <td>3.679605</td>\n",
       "      <td>https://www.immoweb.be/en/classified/apartment...</td>\n",
       "    </tr>\n",
       "    <tr>\n",
       "      <th>2</th>\n",
       "      <td>10683826</td>\n",
       "      <td>Egmont Park</td>\n",
       "      <td>11</td>\n",
       "      <td>0</td>\n",
       "      <td>1.0</td>\n",
       "      <td>Gavere</td>\n",
       "      <td>9890</td>\n",
       "      <td>APARTMENT</td>\n",
       "      <td>APARTMENT</td>\n",
       "      <td>URBAN</td>\n",
       "      <td>...</td>\n",
       "      <td>True</td>\n",
       "      <td>0</td>\n",
       "      <td>0.0</td>\n",
       "      <td>4.0</td>\n",
       "      <td>False</td>\n",
       "      <td>AS_NEW</td>\n",
       "      <td>A</td>\n",
       "      <td>50.928407</td>\n",
       "      <td>3.679605</td>\n",
       "      <td>https://www.immoweb.be/en/classified/apartment...</td>\n",
       "    </tr>\n",
       "    <tr>\n",
       "      <th>3</th>\n",
       "      <td>10683825</td>\n",
       "      <td>Egmont Park</td>\n",
       "      <td>11</td>\n",
       "      <td>0</td>\n",
       "      <td>1.0</td>\n",
       "      <td>Gavere</td>\n",
       "      <td>9890</td>\n",
       "      <td>APARTMENT</td>\n",
       "      <td>APARTMENT</td>\n",
       "      <td>URBAN</td>\n",
       "      <td>...</td>\n",
       "      <td>True</td>\n",
       "      <td>0</td>\n",
       "      <td>0.0</td>\n",
       "      <td>4.0</td>\n",
       "      <td>False</td>\n",
       "      <td>AS_NEW</td>\n",
       "      <td>A</td>\n",
       "      <td>50.928407</td>\n",
       "      <td>3.679605</td>\n",
       "      <td>https://www.immoweb.be/en/classified/apartment...</td>\n",
       "    </tr>\n",
       "    <tr>\n",
       "      <th>4</th>\n",
       "      <td>10683824</td>\n",
       "      <td>Egmont Park</td>\n",
       "      <td>11</td>\n",
       "      <td>0</td>\n",
       "      <td>1.0</td>\n",
       "      <td>Gavere</td>\n",
       "      <td>9890</td>\n",
       "      <td>APARTMENT</td>\n",
       "      <td>APARTMENT</td>\n",
       "      <td>URBAN</td>\n",
       "      <td>...</td>\n",
       "      <td>True</td>\n",
       "      <td>0</td>\n",
       "      <td>0.0</td>\n",
       "      <td>4.0</td>\n",
       "      <td>False</td>\n",
       "      <td>AS_NEW</td>\n",
       "      <td>A</td>\n",
       "      <td>50.928407</td>\n",
       "      <td>3.679605</td>\n",
       "      <td>https://www.immoweb.be/en/classified/apartment...</td>\n",
       "    </tr>\n",
       "  </tbody>\n",
       "</table>\n",
       "<p>5 rows × 31 columns</p>\n",
       "</div>"
      ],
      "text/plain": [
       "         id       Street Housenumber Box  Floor    City Postalcode       Type  \\\n",
       "0  10683816  Egmont Park          11   0    2.0  Gavere       9890  APARTMENT   \n",
       "1  10683823  Egmont Park          11   0    1.0  Gavere       9890  APARTMENT   \n",
       "2  10683826  Egmont Park          11   0    1.0  Gavere       9890  APARTMENT   \n",
       "3  10683825  Egmont Park          11   0    1.0  Gavere       9890  APARTMENT   \n",
       "4  10683824  Egmont Park          11   0    1.0  Gavere       9890  APARTMENT   \n",
       "\n",
       "     Subtype Lacation area  ... Terrace Garden Garden surface  Facades  \\\n",
       "0  APARTMENT         URBAN  ...    True      0            0.0      4.0   \n",
       "1  APARTMENT         URBAN  ...    True      0            0.0      4.0   \n",
       "2  APARTMENT         URBAN  ...    True      0            0.0      4.0   \n",
       "3  APARTMENT         URBAN  ...    True      0            0.0      4.0   \n",
       "4  APARTMENT         URBAN  ...    True      0            0.0      4.0   \n",
       "\n",
       "  SwimmingPool  Condition  EPC score   Latitude Longitude  \\\n",
       "0        False     AS_NEW          A  50.928407  3.679605   \n",
       "1            0     AS_NEW          A  50.928407  3.679605   \n",
       "2        False     AS_NEW          A  50.928407  3.679605   \n",
       "3        False     AS_NEW          A  50.928407  3.679605   \n",
       "4        False     AS_NEW          A  50.928407  3.679605   \n",
       "\n",
       "                                        Property url  \n",
       "0  https://www.immoweb.be/en/classified/apartment...  \n",
       "1  https://www.immoweb.be/en/classified/apartment...  \n",
       "2  https://www.immoweb.be/en/classified/apartment...  \n",
       "3  https://www.immoweb.be/en/classified/apartment...  \n",
       "4  https://www.immoweb.be/en/classified/apartment...  \n",
       "\n",
       "[5 rows x 31 columns]"
      ]
     },
     "execution_count": 199,
     "metadata": {},
     "output_type": "execute_result"
    }
   ],
   "source": [
    "# printing the head\n",
    "df.head()"
   ]
  },
  {
   "cell_type": "code",
   "execution_count": 200,
   "metadata": {},
   "outputs": [
    {
     "name": "stdout",
     "output_type": "stream",
     "text": [
      "<class 'pandas.core.frame.DataFrame'>\n",
      "Index: 17952 entries, 0 to 19975\n",
      "Data columns (total 31 columns):\n",
      " #   Column             Non-Null Count  Dtype  \n",
      "---  ------             --------------  -----  \n",
      " 0   id                 17952 non-null  int64  \n",
      " 1   Street             17952 non-null  object \n",
      " 2   Housenumber        17952 non-null  object \n",
      " 3   Box                17952 non-null  object \n",
      " 4   Floor              17952 non-null  float64\n",
      " 5   City               17952 non-null  object \n",
      " 6   Postalcode         17952 non-null  object \n",
      " 7   Type               17952 non-null  object \n",
      " 8   Subtype            17952 non-null  object \n",
      " 9   Lacation area      17952 non-null  object \n",
      " 10  Region             17952 non-null  object \n",
      " 11  District           17952 non-null  object \n",
      " 12  Province           17952 non-null  object \n",
      " 13  Price              17952 non-null  float64\n",
      " 14  Type of sale       17952 non-null  object \n",
      " 15  Construction year  17952 non-null  float64\n",
      " 16  Bedroom Count      17952 non-null  float64\n",
      " 17  Habitable surface  17952 non-null  float64\n",
      " 18  Kitchen type       17952 non-null  object \n",
      " 19  Furnished          17952 non-null  object \n",
      " 20  Fireplace          17952 non-null  bool   \n",
      " 21  Terrace            17952 non-null  object \n",
      " 22  Garden             17952 non-null  object \n",
      " 23  Garden surface     17952 non-null  float64\n",
      " 24  Facades            17952 non-null  float64\n",
      " 25  SwimmingPool       17952 non-null  object \n",
      " 26  Condition          17952 non-null  object \n",
      " 27  EPC score          17952 non-null  object \n",
      " 28  Latitude           17952 non-null  float64\n",
      " 29  Longitude          17952 non-null  float64\n",
      " 30  Property url       17952 non-null  object \n",
      "dtypes: bool(1), float64(9), int64(1), object(20)\n",
      "memory usage: 4.3+ MB\n"
     ]
    }
   ],
   "source": [
    "# information about the columns\n",
    "df.info()"
   ]
  },
  {
   "cell_type": "code",
   "execution_count": 201,
   "metadata": {},
   "outputs": [
    {
     "data": {
      "text/plain": [
       "Postalcode\n",
       "1180        516\n",
       "1000        488\n",
       "8300        379\n",
       "1050        366\n",
       "9000        360\n",
       "           ... \n",
       "4506 JH       1\n",
       "8851          1\n",
       "8125-404      1\n",
       "204 00        1\n",
       "7973          1\n",
       "Name: count, Length: 995, dtype: int64"
      ]
     },
     "execution_count": 201,
     "metadata": {},
     "output_type": "execute_result"
    }
   ],
   "source": [
    "# info about the different postal codes and its value counts \n",
    "df[\"Postalcode\"].value_counts()"
   ]
  },
  {
   "cell_type": "code",
   "execution_count": 202,
   "metadata": {},
   "outputs": [],
   "source": [
    "# columns that don't contribute to the prediction \n",
    "columns_to_drop = [\"id\",\"Street\",\"City\",\"Region\",\"District\",\"Province\", \"Housenumber\", \"Box\", \"Floor\",\"Lacation area\", \"Type\", \"Type of sale\", \"Construction year\", \"EPC score\",\"Latitude\", \"Longitude\", \"Property url\" ]"
   ]
  },
  {
   "cell_type": "code",
   "execution_count": 203,
   "metadata": {},
   "outputs": [
    {
     "data": {
      "text/plain": [
       "Index(['Postalcode', 'Subtype', 'Price', 'Bedroom Count', 'Habitable surface',\n",
       "       'Kitchen type', 'Furnished', 'Fireplace', 'Terrace', 'Garden',\n",
       "       'Garden surface', 'Facades', 'SwimmingPool', 'Condition'],\n",
       "      dtype='object')"
      ]
     },
     "execution_count": 203,
     "metadata": {},
     "output_type": "execute_result"
    }
   ],
   "source": [
    "# dropping the above column from the dataset\n",
    "df.drop(columns=columns_to_drop, inplace=True)\n",
    "df.columns\n"
   ]
  },
  {
   "cell_type": "code",
   "execution_count": 204,
   "metadata": {},
   "outputs": [
    {
     "data": {
      "text/plain": [
       "Index(['postalcode', 'subtype', 'price', 'bedroom_count', 'habitable_surface',\n",
       "       'kitchen_type', 'furnished', 'fireplace', 'terrace', 'garden',\n",
       "       'garden_surface', 'facades', 'swimmingpool', 'condition'],\n",
       "      dtype='object')"
      ]
     },
     "execution_count": 204,
     "metadata": {},
     "output_type": "execute_result"
    }
   ],
   "source": [
    "#Rename the column names\n",
    "df.rename(columns={'Postalcode': 'postalcode', 'Subtype' : 'subtype', 'Price' : 'price',\n",
    "       'Bedroom Count' : 'bedroom_count', 'Habitable surface' : 'habitable_surface', 'Kitchen type': 'kitchen_type','Furnished':'furnished','Fireplace':'fireplace','Terrace' : 'terrace','Garden' : 'garden', 'Garden surface' : 'garden_surface', 'SwimmingPool' : 'swimmingpool', 'Facades' : 'facades','Condition' : 'condition', 'Price' : 'price'}, inplace=True)\n",
    "#df.rename(columns={'Habitable surface': 'Habitable_surface'}, inplace=True)\n",
    "df.columns"
   ]
  },
  {
   "cell_type": "code",
   "execution_count": 205,
   "metadata": {},
   "outputs": [
    {
     "name": "stdout",
     "output_type": "stream",
     "text": [
      "<class 'pandas.core.series.Series'>\n",
      "Index: 17952 entries, 0 to 19975\n",
      "Series name: postalcode\n",
      "Non-Null Count  Dtype \n",
      "--------------  ----- \n",
      "17848 non-null  object\n",
      "dtypes: object(1)\n",
      "memory usage: 280.5+ KB\n"
     ]
    }
   ],
   "source": [
    "# drop the rows with no improper postalcode and with no region and province\n",
    "#df.drop(df[lendf[\"postalcode\"] != 4].index, inplace = True)\n",
    "\n",
    "#df['postalcode']=df['postalcode'].astype(str)\n",
    "desired_length = 4\n",
    "df['postalcode'] = df['postalcode'][df['postalcode'].str.len() == desired_length]\n",
    "df['postalcode'].info()\n",
    "\n",
    "\n"
   ]
  },
  {
   "cell_type": "code",
   "execution_count": 206,
   "metadata": {},
   "outputs": [
    {
     "data": {
      "text/plain": [
       "bedroom_count\n",
       "3.0     5809\n",
       "2.0     5052\n",
       "4.0     2936\n",
       "1.0     1603\n",
       "5.0     1275\n",
       "6.0      538\n",
       "0.0      328\n",
       "7.0      171\n",
       "8.0      104\n",
       "9.0       46\n",
       "10.0      36\n",
       "12.0      13\n",
       "11.0      10\n",
       "15.0       5\n",
       "13.0       3\n",
       "14.0       1\n",
       "Name: count, dtype: int64"
      ]
     },
     "execution_count": 206,
     "metadata": {},
     "output_type": "execute_result"
    }
   ],
   "source": [
    "# removing the columns with bedroom_count more than 15\n",
    "df['bedroom_count'] = df['bedroom_count'][df['bedroom_count'] <= 15]\n",
    "df['bedroom_count'].value_counts()"
   ]
  },
  {
   "cell_type": "code",
   "execution_count": 207,
   "metadata": {},
   "outputs": [
    {
     "data": {
      "text/plain": [
       "kitchen_type\n",
       "INSTALLED             5933\n",
       "0                     4112\n",
       "HYPER_EQUIPPED        2800\n",
       "SEMI_EQUIPPED         2015\n",
       "USA_HYPER_EQUIPPED    1607\n",
       "NOT_INSTALLED          804\n",
       "USA_INSTALLED          502\n",
       "USA_SEMI_EQUIPPED      147\n",
       "USA_UNINSTALLED         32\n",
       "Name: count, dtype: int64"
      ]
     },
     "execution_count": 207,
     "metadata": {},
     "output_type": "execute_result"
    }
   ],
   "source": [
    "df['kitchen_type'].value_counts()"
   ]
  },
  {
   "cell_type": "code",
   "execution_count": 208,
   "metadata": {},
   "outputs": [
    {
     "data": {
      "text/plain": [
       "furnished\n",
       "False    8781\n",
       "0        8582\n",
       "True      589\n",
       "Name: count, dtype: int64"
      ]
     },
     "execution_count": 208,
     "metadata": {},
     "output_type": "execute_result"
    }
   ],
   "source": [
    "df['furnished'].value_counts()"
   ]
  },
  {
   "cell_type": "code",
   "execution_count": 209,
   "metadata": {},
   "outputs": [
    {
     "data": {
      "text/plain": [
       "furnished\n",
       "True     9370\n",
       "False    8582\n",
       "Name: count, dtype: int64"
      ]
     },
     "execution_count": 209,
     "metadata": {},
     "output_type": "execute_result"
    }
   ],
   "source": [
    "df['furnished'] = df['furnished'].replace('0', False)\n",
    "df[\"furnished\"] = df['furnished'].astype(bool)\n",
    "\n",
    "df['furnished'].value_counts()"
   ]
  },
  {
   "cell_type": "code",
   "execution_count": 210,
   "metadata": {},
   "outputs": [
    {
     "data": {
      "text/plain": [
       "furnished\n",
       "1    9370\n",
       "0    8582\n",
       "Name: count, dtype: int64"
      ]
     },
     "execution_count": 210,
     "metadata": {},
     "output_type": "execute_result"
    }
   ],
   "source": [
    "df[\"furnished\"] = df['furnished'].astype(int)\n",
    "df['furnished'].value_counts()"
   ]
  },
  {
   "cell_type": "code",
   "execution_count": 211,
   "metadata": {},
   "outputs": [
    {
     "data": {
      "text/plain": [
       "fireplace\n",
       "0    12099\n",
       "1     5853\n",
       "Name: count, dtype: int64"
      ]
     },
     "execution_count": 211,
     "metadata": {},
     "output_type": "execute_result"
    }
   ],
   "source": [
    "df['fireplace'] = df['fireplace'].astype(int)\n",
    "df['fireplace'].value_counts()"
   ]
  },
  {
   "cell_type": "code",
   "execution_count": 212,
   "metadata": {},
   "outputs": [
    {
     "data": {
      "text/plain": [
       "terrace\n",
       "True    12426\n",
       "0        5526\n",
       "Name: count, dtype: int64"
      ]
     },
     "execution_count": 212,
     "metadata": {},
     "output_type": "execute_result"
    }
   ],
   "source": [
    "df['terrace'].value_counts()"
   ]
  },
  {
   "cell_type": "code",
   "execution_count": 213,
   "metadata": {},
   "outputs": [
    {
     "data": {
      "text/plain": [
       "terrace\n",
       "1    12426\n",
       "0     5526\n",
       "Name: count, dtype: int64"
      ]
     },
     "execution_count": 213,
     "metadata": {},
     "output_type": "execute_result"
    }
   ],
   "source": [
    "df['terrace'] = df['terrace'].replace('0', False)\n",
    "df[\"terrace\"] = df['terrace'].astype(bool)\n",
    "df[\"terrace\"] = df['terrace'].astype(int)\n",
    "\n",
    "df['terrace'].value_counts()"
   ]
  },
  {
   "cell_type": "code",
   "execution_count": 214,
   "metadata": {},
   "outputs": [
    {
     "data": {
      "text/plain": [
       "(12274, 14)"
      ]
     },
     "execution_count": 214,
     "metadata": {},
     "output_type": "execute_result"
    }
   ],
   "source": [
    "df = df[~((df['garden']!='0')&(df['garden_surface']==0))]\n",
    "df = df[~((df['garden']=='0')&(df['garden_surface']!=0))]\n",
    "df.shape"
   ]
  },
  {
   "cell_type": "code",
   "execution_count": 215,
   "metadata": {},
   "outputs": [
    {
     "data": {
      "text/plain": [
       "garden_surface\n",
       "0.0       6939\n",
       "170.0       35\n",
       "220.0       33\n",
       "200.0       33\n",
       "180.0       32\n",
       "          ... \n",
       "1409.0       1\n",
       "1673.0       1\n",
       "1936.0       1\n",
       "169.0        1\n",
       "1778.0       1\n",
       "Name: count, Length: 1698, dtype: int64"
      ]
     },
     "execution_count": 215,
     "metadata": {},
     "output_type": "execute_result"
    }
   ],
   "source": [
    "\n",
    "df['garden_surface'].value_counts()"
   ]
  },
  {
   "cell_type": "code",
   "execution_count": 216,
   "metadata": {},
   "outputs": [],
   "source": [
    "df['garden'] = df['garden'].replace('0', False)\n",
    "df[\"garden\"] = df['garden'].astype(bool)\n",
    "df[\"garden\"] = df['garden'].astype(int)\n"
   ]
  },
  {
   "cell_type": "code",
   "execution_count": 217,
   "metadata": {},
   "outputs": [
    {
     "data": {
      "text/plain": [
       "garden\n",
       "0    6939\n",
       "1    5335\n",
       "Name: count, dtype: int64"
      ]
     },
     "execution_count": 217,
     "metadata": {},
     "output_type": "execute_result"
    }
   ],
   "source": [
    "df['garden'].value_counts()"
   ]
  },
  {
   "cell_type": "code",
   "execution_count": 218,
   "metadata": {},
   "outputs": [],
   "source": [
    "# Replacing all the 0's to False in the terrace column and changing it to bool datatype\n",
    "df['swimmingpool'] = df['swimmingpool'].replace('0', False)\n",
    "df[\"swimmingpool\"] = df['swimmingpool'].astype(bool)\n",
    "df[\"swimmingpool\"] = df['swimmingpool'].astype(int)"
   ]
  },
  {
   "cell_type": "code",
   "execution_count": 219,
   "metadata": {},
   "outputs": [
    {
     "data": {
      "text/plain": [
       "swimmingpool\n",
       "1    6595\n",
       "0    5679\n",
       "Name: count, dtype: int64"
      ]
     },
     "execution_count": 219,
     "metadata": {},
     "output_type": "execute_result"
    }
   ],
   "source": [
    "df['swimmingpool'].value_counts()"
   ]
  },
  {
   "cell_type": "code",
   "execution_count": 220,
   "metadata": {},
   "outputs": [
    {
     "data": {
      "text/plain": [
       "condition\n",
       "GOOD              4111\n",
       "AS_NEW            3262\n",
       "0                 2029\n",
       "TO_BE_DONE_UP     1082\n",
       "TO_RENOVATE       1029\n",
       "JUST_RENOVATED     704\n",
       "TO_RESTORE          57\n",
       "Name: count, dtype: int64"
      ]
     },
     "execution_count": 220,
     "metadata": {},
     "output_type": "execute_result"
    }
   ],
   "source": [
    "df['condition'].value_counts()"
   ]
  },
  {
   "cell_type": "code",
   "execution_count": 221,
   "metadata": {},
   "outputs": [],
   "source": [
    "df['condition'] = df['condition'].replace('0', 'NOT_KNOWN')\n"
   ]
  },
  {
   "cell_type": "code",
   "execution_count": 222,
   "metadata": {},
   "outputs": [
    {
     "data": {
      "text/plain": [
       "condition\n",
       "GOOD              4111\n",
       "AS_NEW            3262\n",
       "NOT_KNOWN         2029\n",
       "TO_BE_DONE_UP     1082\n",
       "TO_RENOVATE       1029\n",
       "JUST_RENOVATED     704\n",
       "TO_RESTORE          57\n",
       "Name: count, dtype: int64"
      ]
     },
     "execution_count": 222,
     "metadata": {},
     "output_type": "execute_result"
    }
   ],
   "source": [
    "df['condition'].value_counts()"
   ]
  },
  {
   "cell_type": "code",
   "execution_count": 223,
   "metadata": {},
   "outputs": [
    {
     "name": "stdout",
     "output_type": "stream",
     "text": [
      "<class 'pandas.core.frame.DataFrame'>\n",
      "Index: 12274 entries, 0 to 19975\n",
      "Data columns (total 14 columns):\n",
      " #   Column             Non-Null Count  Dtype  \n",
      "---  ------             --------------  -----  \n",
      " 0   postalcode         12191 non-null  object \n",
      " 1   subtype            12274 non-null  object \n",
      " 2   price              12274 non-null  float64\n",
      " 3   bedroom_count      12263 non-null  float64\n",
      " 4   habitable_surface  12274 non-null  float64\n",
      " 5   kitchen_type       12274 non-null  object \n",
      " 6   furnished          12274 non-null  int64  \n",
      " 7   fireplace          12274 non-null  int64  \n",
      " 8   terrace            12274 non-null  int64  \n",
      " 9   garden             12274 non-null  int64  \n",
      " 10  garden_surface     12274 non-null  float64\n",
      " 11  facades            12274 non-null  float64\n",
      " 12  swimmingpool       12274 non-null  int64  \n",
      " 13  condition          12274 non-null  object \n",
      "dtypes: float64(5), int64(5), object(4)\n",
      "memory usage: 1.4+ MB\n"
     ]
    }
   ],
   "source": [
    "df.info()"
   ]
  },
  {
   "cell_type": "code",
   "execution_count": 239,
   "metadata": {},
   "outputs": [
    {
     "data": {
      "text/plain": [
       "Index(['postalcode', 'subtype', 'price', 'bedroom_count', 'habitable_surface',\n",
       "       'kitchen_type', 'furnished', 'fireplace', 'terrace', 'garden',\n",
       "       'garden_surface', 'facades', 'swimmingpool', 'condition'],\n",
       "      dtype='object')"
      ]
     },
     "execution_count": 239,
     "metadata": {},
     "output_type": "execute_result"
    }
   ],
   "source": [
    "df.columns"
   ]
  },
  {
   "cell_type": "code",
   "execution_count": 224,
   "metadata": {},
   "outputs": [
    {
     "name": "stdout",
     "output_type": "stream",
     "text": [
      "postalcode           83\n",
      "subtype               0\n",
      "price                 0\n",
      "bedroom_count        11\n",
      "habitable_surface     0\n",
      "kitchen_type          0\n",
      "furnished             0\n",
      "fireplace             0\n",
      "terrace               0\n",
      "garden                0\n",
      "garden_surface        0\n",
      "facades               0\n",
      "swimmingpool          0\n",
      "condition             0\n",
      "dtype: int64\n"
     ]
    }
   ],
   "source": [
    "print(df.isna().sum())"
   ]
  },
  {
   "cell_type": "code",
   "execution_count": 247,
   "metadata": {},
   "outputs": [
    {
     "data": {
      "text/plain": [
       "condition\n",
       "GOOD              4111\n",
       "AS_NEW            3262\n",
       "NOT_KNOWN         2029\n",
       "TO_BE_DONE_UP     1082\n",
       "TO_RENOVATE       1029\n",
       "JUST_RENOVATED     704\n",
       "TO_RESTORE          57\n",
       "Name: count, dtype: int64"
      ]
     },
     "execution_count": 247,
     "metadata": {},
     "output_type": "execute_result"
    }
   ],
   "source": [
    "df['condition'].value_counts()"
   ]
  },
  {
   "attachments": {},
   "cell_type": "markdown",
   "metadata": {},
   "source": [
    "### Creating a pipeline for the model training and testing"
   ]
  },
  {
   "cell_type": "code",
   "execution_count": 225,
   "metadata": {},
   "outputs": [
    {
     "name": "stdout",
     "output_type": "stream",
     "text": [
      "Shape of X:  (12274, 13)\n",
      "Shape of y:  (12274, 1)\n",
      "Shape of X_train:  (9819, 13)\n",
      "Shape of y_train:  (9819, 1)\n",
      "Shape of X_test:  (2455, 13)\n",
      "Shape of y_test:  (2455, 1)\n",
      "[['6941' 'HOUSE' 6.0 ... 3.0 1 'GOOD']\n",
      " ['2960' 'DUPLEX' 4.0 ... 3.0 1 'GOOD']\n",
      " ['8370' 'APARTMENT' 3.0 ... 0.0 1 'JUST_RENOVATED']\n",
      " ...\n",
      " ['4340' 'APARTMENT' 1.0 ... 4.0 0 'NOT_KNOWN']\n",
      " ['6920' 'HOUSE' 4.0 ... 3.0 1 'TO_BE_DONE_UP']\n",
      " ['3271' 'HOUSE' 2.0 ... 4.0 1 'AS_NEW']]\n"
     ]
    }
   ],
   "source": [
    "# dividing the columns to prediction value and features\n",
    "X = df.drop(columns=[\"price\"]).to_numpy()\n",
    "y = df.price.to_numpy().reshape(-1, 1)\n",
    "# Shapes of X and y\n",
    "print(\"Shape of X: \", X.shape)\n",
    "print(\"Shape of y: \", y.shape)\n",
    "\n",
    "#Splitting the train and test sets\n",
    "X_train, X_test, y_train, y_test = train_test_split(X, y, test_size=0.2, random_state=40)\n",
    "# Shapes of diffrent train and test sets\n",
    "print(\"Shape of X_train: \", X_train.shape)\n",
    "print(\"Shape of y_train: \", y_train.shape)\n",
    "print(\"Shape of X_test: \", X_test.shape)\n",
    "print(\"Shape of y_test: \", y_test.shape)\n",
    "print(X_train)"
   ]
  },
  {
   "cell_type": "code",
   "execution_count": 226,
   "metadata": {},
   "outputs": [],
   "source": [
    "# first transformation for the pipeline which is SimpleImputer\n",
    "trans_1 = ColumnTransformer([('simple_imputer',SimpleImputer(strategy='most_frequent'),[0,1, 2, 3, 4, 5, 6, 7, 8, 9, 10,11,12])], remainder='passthrough' )"
   ]
  },
  {
   "cell_type": "code",
   "execution_count": 227,
   "metadata": {},
   "outputs": [],
   "source": [
    "# second transformation for the pipeline which is OneHotEncoder\n",
    "trans_2 = ColumnTransformer([('ohe_trans',OneHotEncoder(sparse_output=False,handle_unknown='ignore'), [0,1,4,12])], remainder='passthrough' )"
   ]
  },
  {
   "cell_type": "code",
   "execution_count": 228,
   "metadata": {},
   "outputs": [],
   "source": [
    "# third transformation for the pipeline which is scaling\n",
    "trans_3 = ColumnTransformer([('scale', StandardScaler(), slice(0, 12))], remainder='passthrough')"
   ]
  },
  {
   "cell_type": "code",
   "execution_count": 229,
   "metadata": {},
   "outputs": [],
   "source": [
    "# fourth transformation for the pipeline which is creating an instance from linear models\n",
    "trans_4 = RandomForestClassifier()"
   ]
  },
  {
   "cell_type": "code",
   "execution_count": 230,
   "metadata": {},
   "outputs": [],
   "source": [
    "# creating a pipeline with above transformer\n",
    "pipe = Pipeline([('trans_1',trans_1),\n",
    "                 ('trans_2',trans_2),\n",
    "                 ('trans_3',trans_3),\n",
    "                 ('trans_4',trans_4)])"
   ]
  },
  {
   "cell_type": "code",
   "execution_count": 231,
   "metadata": {},
   "outputs": [
    {
     "name": "stderr",
     "output_type": "stream",
     "text": [
      "/Users/mac/Documents/GitHub/Data-visualization-ImmoEliza/model_building_venv/lib/python3.9/site-packages/sklearn/base.py:1151: DataConversionWarning: A column-vector y was passed when a 1d array was expected. Please change the shape of y to (n_samples,), for example using ravel().\n",
      "  return fit_method(estimator, *args, **kwargs)\n"
     ]
    },
    {
     "data": {
      "text/html": [
       "<style>#sk-container-id-2 {color: black;}#sk-container-id-2 pre{padding: 0;}#sk-container-id-2 div.sk-toggleable {background-color: white;}#sk-container-id-2 label.sk-toggleable__label {cursor: pointer;display: block;width: 100%;margin-bottom: 0;padding: 0.3em;box-sizing: border-box;text-align: center;}#sk-container-id-2 label.sk-toggleable__label-arrow:before {content: \"▸\";float: left;margin-right: 0.25em;color: #696969;}#sk-container-id-2 label.sk-toggleable__label-arrow:hover:before {color: black;}#sk-container-id-2 div.sk-estimator:hover label.sk-toggleable__label-arrow:before {color: black;}#sk-container-id-2 div.sk-toggleable__content {max-height: 0;max-width: 0;overflow: hidden;text-align: left;background-color: #f0f8ff;}#sk-container-id-2 div.sk-toggleable__content pre {margin: 0.2em;color: black;border-radius: 0.25em;background-color: #f0f8ff;}#sk-container-id-2 input.sk-toggleable__control:checked~div.sk-toggleable__content {max-height: 200px;max-width: 100%;overflow: auto;}#sk-container-id-2 input.sk-toggleable__control:checked~label.sk-toggleable__label-arrow:before {content: \"▾\";}#sk-container-id-2 div.sk-estimator input.sk-toggleable__control:checked~label.sk-toggleable__label {background-color: #d4ebff;}#sk-container-id-2 div.sk-label input.sk-toggleable__control:checked~label.sk-toggleable__label {background-color: #d4ebff;}#sk-container-id-2 input.sk-hidden--visually {border: 0;clip: rect(1px 1px 1px 1px);clip: rect(1px, 1px, 1px, 1px);height: 1px;margin: -1px;overflow: hidden;padding: 0;position: absolute;width: 1px;}#sk-container-id-2 div.sk-estimator {font-family: monospace;background-color: #f0f8ff;border: 1px dotted black;border-radius: 0.25em;box-sizing: border-box;margin-bottom: 0.5em;}#sk-container-id-2 div.sk-estimator:hover {background-color: #d4ebff;}#sk-container-id-2 div.sk-parallel-item::after {content: \"\";width: 100%;border-bottom: 1px solid gray;flex-grow: 1;}#sk-container-id-2 div.sk-label:hover label.sk-toggleable__label {background-color: #d4ebff;}#sk-container-id-2 div.sk-serial::before {content: \"\";position: absolute;border-left: 1px solid gray;box-sizing: border-box;top: 0;bottom: 0;left: 50%;z-index: 0;}#sk-container-id-2 div.sk-serial {display: flex;flex-direction: column;align-items: center;background-color: white;padding-right: 0.2em;padding-left: 0.2em;position: relative;}#sk-container-id-2 div.sk-item {position: relative;z-index: 1;}#sk-container-id-2 div.sk-parallel {display: flex;align-items: stretch;justify-content: center;background-color: white;position: relative;}#sk-container-id-2 div.sk-item::before, #sk-container-id-2 div.sk-parallel-item::before {content: \"\";position: absolute;border-left: 1px solid gray;box-sizing: border-box;top: 0;bottom: 0;left: 50%;z-index: -1;}#sk-container-id-2 div.sk-parallel-item {display: flex;flex-direction: column;z-index: 1;position: relative;background-color: white;}#sk-container-id-2 div.sk-parallel-item:first-child::after {align-self: flex-end;width: 50%;}#sk-container-id-2 div.sk-parallel-item:last-child::after {align-self: flex-start;width: 50%;}#sk-container-id-2 div.sk-parallel-item:only-child::after {width: 0;}#sk-container-id-2 div.sk-dashed-wrapped {border: 1px dashed gray;margin: 0 0.4em 0.5em 0.4em;box-sizing: border-box;padding-bottom: 0.4em;background-color: white;}#sk-container-id-2 div.sk-label label {font-family: monospace;font-weight: bold;display: inline-block;line-height: 1.2em;}#sk-container-id-2 div.sk-label-container {text-align: center;}#sk-container-id-2 div.sk-container {/* jupyter's `normalize.less` sets `[hidden] { display: none; }` but bootstrap.min.css set `[hidden] { display: none !important; }` so we also need the `!important` here to be able to override the default hidden behavior on the sphinx rendered scikit-learn.org. See: https://github.com/scikit-learn/scikit-learn/issues/21755 */display: inline-block !important;position: relative;}#sk-container-id-2 div.sk-text-repr-fallback {display: none;}</style><div id=\"sk-container-id-2\" class=\"sk-top-container\"><div class=\"sk-text-repr-fallback\"><pre>Pipeline(steps=[(&#x27;trans_1&#x27;,\n",
       "                 ColumnTransformer(remainder=&#x27;passthrough&#x27;,\n",
       "                                   transformers=[(&#x27;simple_imputer&#x27;,\n",
       "                                                  SimpleImputer(strategy=&#x27;most_frequent&#x27;),\n",
       "                                                  [0, 1, 2, 3, 4, 5, 6, 7, 8, 9,\n",
       "                                                   10, 11, 12])])),\n",
       "                (&#x27;trans_2&#x27;,\n",
       "                 ColumnTransformer(remainder=&#x27;passthrough&#x27;,\n",
       "                                   transformers=[(&#x27;ohe_trans&#x27;,\n",
       "                                                  OneHotEncoder(handle_unknown=&#x27;ignore&#x27;,\n",
       "                                                                sparse_output=False),\n",
       "                                                  [0, 1, 4, 12])])),\n",
       "                (&#x27;trans_3&#x27;,\n",
       "                 ColumnTransformer(remainder=&#x27;passthrough&#x27;,\n",
       "                                   transformers=[(&#x27;scale&#x27;, StandardScaler(),\n",
       "                                                  slice(0, 12, None))])),\n",
       "                (&#x27;trans_4&#x27;, RandomForestClassifier())])</pre><b>In a Jupyter environment, please rerun this cell to show the HTML representation or trust the notebook. <br />On GitHub, the HTML representation is unable to render, please try loading this page with nbviewer.org.</b></div><div class=\"sk-container\" hidden><div class=\"sk-item sk-dashed-wrapped\"><div class=\"sk-label-container\"><div class=\"sk-label sk-toggleable\"><input class=\"sk-toggleable__control sk-hidden--visually\" id=\"sk-estimator-id-18\" type=\"checkbox\" ><label for=\"sk-estimator-id-18\" class=\"sk-toggleable__label sk-toggleable__label-arrow\">Pipeline</label><div class=\"sk-toggleable__content\"><pre>Pipeline(steps=[(&#x27;trans_1&#x27;,\n",
       "                 ColumnTransformer(remainder=&#x27;passthrough&#x27;,\n",
       "                                   transformers=[(&#x27;simple_imputer&#x27;,\n",
       "                                                  SimpleImputer(strategy=&#x27;most_frequent&#x27;),\n",
       "                                                  [0, 1, 2, 3, 4, 5, 6, 7, 8, 9,\n",
       "                                                   10, 11, 12])])),\n",
       "                (&#x27;trans_2&#x27;,\n",
       "                 ColumnTransformer(remainder=&#x27;passthrough&#x27;,\n",
       "                                   transformers=[(&#x27;ohe_trans&#x27;,\n",
       "                                                  OneHotEncoder(handle_unknown=&#x27;ignore&#x27;,\n",
       "                                                                sparse_output=False),\n",
       "                                                  [0, 1, 4, 12])])),\n",
       "                (&#x27;trans_3&#x27;,\n",
       "                 ColumnTransformer(remainder=&#x27;passthrough&#x27;,\n",
       "                                   transformers=[(&#x27;scale&#x27;, StandardScaler(),\n",
       "                                                  slice(0, 12, None))])),\n",
       "                (&#x27;trans_4&#x27;, RandomForestClassifier())])</pre></div></div></div><div class=\"sk-serial\"><div class=\"sk-item sk-dashed-wrapped\"><div class=\"sk-label-container\"><div class=\"sk-label sk-toggleable\"><input class=\"sk-toggleable__control sk-hidden--visually\" id=\"sk-estimator-id-19\" type=\"checkbox\" ><label for=\"sk-estimator-id-19\" class=\"sk-toggleable__label sk-toggleable__label-arrow\">trans_1: ColumnTransformer</label><div class=\"sk-toggleable__content\"><pre>ColumnTransformer(remainder=&#x27;passthrough&#x27;,\n",
       "                  transformers=[(&#x27;simple_imputer&#x27;,\n",
       "                                 SimpleImputer(strategy=&#x27;most_frequent&#x27;),\n",
       "                                 [0, 1, 2, 3, 4, 5, 6, 7, 8, 9, 10, 11, 12])])</pre></div></div></div><div class=\"sk-parallel\"><div class=\"sk-parallel-item\"><div class=\"sk-item\"><div class=\"sk-label-container\"><div class=\"sk-label sk-toggleable\"><input class=\"sk-toggleable__control sk-hidden--visually\" id=\"sk-estimator-id-20\" type=\"checkbox\" ><label for=\"sk-estimator-id-20\" class=\"sk-toggleable__label sk-toggleable__label-arrow\">simple_imputer</label><div class=\"sk-toggleable__content\"><pre>[0, 1, 2, 3, 4, 5, 6, 7, 8, 9, 10, 11, 12]</pre></div></div></div><div class=\"sk-serial\"><div class=\"sk-item\"><div class=\"sk-estimator sk-toggleable\"><input class=\"sk-toggleable__control sk-hidden--visually\" id=\"sk-estimator-id-21\" type=\"checkbox\" ><label for=\"sk-estimator-id-21\" class=\"sk-toggleable__label sk-toggleable__label-arrow\">SimpleImputer</label><div class=\"sk-toggleable__content\"><pre>SimpleImputer(strategy=&#x27;most_frequent&#x27;)</pre></div></div></div></div></div></div><div class=\"sk-parallel-item\"><div class=\"sk-item\"><div class=\"sk-label-container\"><div class=\"sk-label sk-toggleable\"><input class=\"sk-toggleable__control sk-hidden--visually\" id=\"sk-estimator-id-22\" type=\"checkbox\" ><label for=\"sk-estimator-id-22\" class=\"sk-toggleable__label sk-toggleable__label-arrow\">remainder</label><div class=\"sk-toggleable__content\"><pre>[]</pre></div></div></div><div class=\"sk-serial\"><div class=\"sk-item\"><div class=\"sk-estimator sk-toggleable\"><input class=\"sk-toggleable__control sk-hidden--visually\" id=\"sk-estimator-id-23\" type=\"checkbox\" ><label for=\"sk-estimator-id-23\" class=\"sk-toggleable__label sk-toggleable__label-arrow\">passthrough</label><div class=\"sk-toggleable__content\"><pre>passthrough</pre></div></div></div></div></div></div></div></div><div class=\"sk-item sk-dashed-wrapped\"><div class=\"sk-label-container\"><div class=\"sk-label sk-toggleable\"><input class=\"sk-toggleable__control sk-hidden--visually\" id=\"sk-estimator-id-24\" type=\"checkbox\" ><label for=\"sk-estimator-id-24\" class=\"sk-toggleable__label sk-toggleable__label-arrow\">trans_2: ColumnTransformer</label><div class=\"sk-toggleable__content\"><pre>ColumnTransformer(remainder=&#x27;passthrough&#x27;,\n",
       "                  transformers=[(&#x27;ohe_trans&#x27;,\n",
       "                                 OneHotEncoder(handle_unknown=&#x27;ignore&#x27;,\n",
       "                                               sparse_output=False),\n",
       "                                 [0, 1, 4, 12])])</pre></div></div></div><div class=\"sk-parallel\"><div class=\"sk-parallel-item\"><div class=\"sk-item\"><div class=\"sk-label-container\"><div class=\"sk-label sk-toggleable\"><input class=\"sk-toggleable__control sk-hidden--visually\" id=\"sk-estimator-id-25\" type=\"checkbox\" ><label for=\"sk-estimator-id-25\" class=\"sk-toggleable__label sk-toggleable__label-arrow\">ohe_trans</label><div class=\"sk-toggleable__content\"><pre>[0, 1, 4, 12]</pre></div></div></div><div class=\"sk-serial\"><div class=\"sk-item\"><div class=\"sk-estimator sk-toggleable\"><input class=\"sk-toggleable__control sk-hidden--visually\" id=\"sk-estimator-id-26\" type=\"checkbox\" ><label for=\"sk-estimator-id-26\" class=\"sk-toggleable__label sk-toggleable__label-arrow\">OneHotEncoder</label><div class=\"sk-toggleable__content\"><pre>OneHotEncoder(handle_unknown=&#x27;ignore&#x27;, sparse_output=False)</pre></div></div></div></div></div></div><div class=\"sk-parallel-item\"><div class=\"sk-item\"><div class=\"sk-label-container\"><div class=\"sk-label sk-toggleable\"><input class=\"sk-toggleable__control sk-hidden--visually\" id=\"sk-estimator-id-27\" type=\"checkbox\" ><label for=\"sk-estimator-id-27\" class=\"sk-toggleable__label sk-toggleable__label-arrow\">remainder</label><div class=\"sk-toggleable__content\"><pre>[2, 3, 5, 6, 7, 8, 9, 10, 11]</pre></div></div></div><div class=\"sk-serial\"><div class=\"sk-item\"><div class=\"sk-estimator sk-toggleable\"><input class=\"sk-toggleable__control sk-hidden--visually\" id=\"sk-estimator-id-28\" type=\"checkbox\" ><label for=\"sk-estimator-id-28\" class=\"sk-toggleable__label sk-toggleable__label-arrow\">passthrough</label><div class=\"sk-toggleable__content\"><pre>passthrough</pre></div></div></div></div></div></div></div></div><div class=\"sk-item sk-dashed-wrapped\"><div class=\"sk-label-container\"><div class=\"sk-label sk-toggleable\"><input class=\"sk-toggleable__control sk-hidden--visually\" id=\"sk-estimator-id-29\" type=\"checkbox\" ><label for=\"sk-estimator-id-29\" class=\"sk-toggleable__label sk-toggleable__label-arrow\">trans_3: ColumnTransformer</label><div class=\"sk-toggleable__content\"><pre>ColumnTransformer(remainder=&#x27;passthrough&#x27;,\n",
       "                  transformers=[(&#x27;scale&#x27;, StandardScaler(),\n",
       "                                 slice(0, 12, None))])</pre></div></div></div><div class=\"sk-parallel\"><div class=\"sk-parallel-item\"><div class=\"sk-item\"><div class=\"sk-label-container\"><div class=\"sk-label sk-toggleable\"><input class=\"sk-toggleable__control sk-hidden--visually\" id=\"sk-estimator-id-30\" type=\"checkbox\" ><label for=\"sk-estimator-id-30\" class=\"sk-toggleable__label sk-toggleable__label-arrow\">scale</label><div class=\"sk-toggleable__content\"><pre>slice(0, 12, None)</pre></div></div></div><div class=\"sk-serial\"><div class=\"sk-item\"><div class=\"sk-estimator sk-toggleable\"><input class=\"sk-toggleable__control sk-hidden--visually\" id=\"sk-estimator-id-31\" type=\"checkbox\" ><label for=\"sk-estimator-id-31\" class=\"sk-toggleable__label sk-toggleable__label-arrow\">StandardScaler</label><div class=\"sk-toggleable__content\"><pre>StandardScaler()</pre></div></div></div></div></div></div><div class=\"sk-parallel-item\"><div class=\"sk-item\"><div class=\"sk-label-container\"><div class=\"sk-label sk-toggleable\"><input class=\"sk-toggleable__control sk-hidden--visually\" id=\"sk-estimator-id-32\" type=\"checkbox\" ><label for=\"sk-estimator-id-32\" class=\"sk-toggleable__label sk-toggleable__label-arrow\">remainder</label><div class=\"sk-toggleable__content\"><pre>[12, 13, 14, 15, 16, 17, 18, 19, 20, 21, 22, 23, 24, 25, 26, 27, 28, 29, 30, 31, 32, 33, 34, 35, 36, 37, 38, 39, 40, 41, 42, 43, 44, 45, 46, 47, 48, 49, 50, 51, 52, 53, 54, 55, 56, 57, 58, 59, 60, 61, 62, 63, 64, 65, 66, 67, 68, 69, 70, 71, 72, 73, 74, 75, 76, 77, 78, 79, 80, 81, 82, 83, 84, 85, 86, 87, 88, 89, 90, 91, 92, 93, 94, 95, 96, 97, 98, 99, 100, 101, 102, 103, 104, 105, 106, 107, 108, 109, 110, 111, 112, 113, 114, 115, 116, 117, 118, 119, 120, 121, 122, 123, 124, 125, 126, 127, 128, 129, 130, 131, 132, 133, 134, 135, 136, 137, 138, 139, 140, 141, 142, 143, 144, 145, 146, 147, 148, 149, 150, 151, 152, 153, 154, 155, 156, 157, 158, 159, 160, 161, 162, 163, 164, 165, 166, 167, 168, 169, 170, 171, 172, 173, 174, 175, 176, 177, 178, 179, 180, 181, 182, 183, 184, 185, 186, 187, 188, 189, 190, 191, 192, 193, 194, 195, 196, 197, 198, 199, 200, 201, 202, 203, 204, 205, 206, 207, 208, 209, 210, 211, 212, 213, 214, 215, 216, 217, 218, 219, 220, 221, 222, 223, 224, 225, 226, 227, 228, 229, 230, 231, 232, 233, 234, 235, 236, 237, 238, 239, 240, 241, 242, 243, 244, 245, 246, 247, 248, 249, 250, 251, 252, 253, 254, 255, 256, 257, 258, 259, 260, 261, 262, 263, 264, 265, 266, 267, 268, 269, 270, 271, 272, 273, 274, 275, 276, 277, 278, 279, 280, 281, 282, 283, 284, 285, 286, 287, 288, 289, 290, 291, 292, 293, 294, 295, 296, 297, 298, 299, 300, 301, 302, 303, 304, 305, 306, 307, 308, 309, 310, 311, 312, 313, 314, 315, 316, 317, 318, 319, 320, 321, 322, 323, 324, 325, 326, 327, 328, 329, 330, 331, 332, 333, 334, 335, 336, 337, 338, 339, 340, 341, 342, 343, 344, 345, 346, 347, 348, 349, 350, 351, 352, 353, 354, 355, 356, 357, 358, 359, 360, 361, 362, 363, 364, 365, 366, 367, 368, 369, 370, 371, 372, 373, 374, 375, 376, 377, 378, 379, 380, 381, 382, 383, 384, 385, 386, 387, 388, 389, 390, 391, 392, 393, 394, 395, 396, 397, 398, 399, 400, 401, 402, 403, 404, 405, 406, 407, 408, 409, 410, 411, 412, 413, 414, 415, 416, 417, 418, 419, 420, 421, 422, 423, 424, 425, 426, 427, 428, 429, 430, 431, 432, 433, 434, 435, 436, 437, 438, 439, 440, 441, 442, 443, 444, 445, 446, 447, 448, 449, 450, 451, 452, 453, 454, 455, 456, 457, 458, 459, 460, 461, 462, 463, 464, 465, 466, 467, 468, 469, 470, 471, 472, 473, 474, 475, 476, 477, 478, 479, 480, 481, 482, 483, 484, 485, 486, 487, 488, 489, 490, 491, 492, 493, 494, 495, 496, 497, 498, 499, 500, 501, 502, 503, 504, 505, 506, 507, 508, 509, 510, 511, 512, 513, 514, 515, 516, 517, 518, 519, 520, 521, 522, 523, 524, 525, 526, 527, 528, 529, 530, 531, 532, 533, 534, 535, 536, 537, 538, 539, 540, 541, 542, 543, 544, 545, 546, 547, 548, 549, 550, 551, 552, 553, 554, 555, 556, 557, 558, 559, 560, 561, 562, 563, 564, 565, 566, 567, 568, 569, 570, 571, 572, 573, 574, 575, 576, 577, 578, 579, 580, 581, 582, 583, 584, 585, 586, 587, 588, 589, 590, 591, 592, 593, 594, 595, 596, 597, 598, 599, 600, 601, 602, 603, 604, 605, 606, 607, 608, 609, 610, 611, 612, 613, 614, 615, 616, 617, 618, 619, 620, 621, 622, 623, 624, 625, 626, 627, 628, 629, 630, 631, 632, 633, 634, 635, 636, 637, 638, 639, 640, 641, 642, 643, 644, 645, 646, 647, 648, 649, 650, 651, 652, 653, 654, 655, 656, 657, 658, 659, 660, 661, 662, 663, 664, 665, 666, 667, 668, 669, 670, 671, 672, 673, 674, 675, 676, 677, 678, 679, 680, 681, 682, 683, 684, 685, 686, 687, 688, 689, 690, 691, 692, 693, 694, 695, 696, 697, 698, 699, 700, 701, 702, 703, 704, 705, 706, 707, 708, 709, 710, 711, 712, 713, 714, 715, 716, 717, 718, 719, 720, 721, 722, 723, 724, 725, 726, 727, 728, 729, 730, 731, 732, 733, 734, 735, 736, 737, 738, 739, 740, 741, 742, 743, 744, 745, 746, 747, 748, 749, 750, 751, 752, 753, 754, 755, 756, 757, 758, 759, 760, 761, 762, 763, 764, 765, 766, 767, 768, 769, 770, 771, 772, 773, 774, 775, 776, 777, 778, 779, 780, 781, 782, 783, 784, 785, 786, 787, 788, 789, 790, 791, 792, 793, 794, 795, 796, 797, 798, 799, 800, 801, 802, 803, 804, 805, 806, 807, 808, 809, 810, 811, 812, 813, 814, 815, 816, 817, 818, 819, 820, 821, 822, 823, 824, 825, 826, 827, 828, 829, 830, 831, 832, 833, 834, 835, 836, 837, 838, 839, 840, 841, 842, 843, 844, 845, 846, 847, 848, 849, 850, 851, 852, 853, 854]</pre></div></div></div><div class=\"sk-serial\"><div class=\"sk-item\"><div class=\"sk-estimator sk-toggleable\"><input class=\"sk-toggleable__control sk-hidden--visually\" id=\"sk-estimator-id-33\" type=\"checkbox\" ><label for=\"sk-estimator-id-33\" class=\"sk-toggleable__label sk-toggleable__label-arrow\">passthrough</label><div class=\"sk-toggleable__content\"><pre>passthrough</pre></div></div></div></div></div></div></div></div><div class=\"sk-item\"><div class=\"sk-estimator sk-toggleable\"><input class=\"sk-toggleable__control sk-hidden--visually\" id=\"sk-estimator-id-34\" type=\"checkbox\" ><label for=\"sk-estimator-id-34\" class=\"sk-toggleable__label sk-toggleable__label-arrow\">RandomForestClassifier</label><div class=\"sk-toggleable__content\"><pre>RandomForestClassifier()</pre></div></div></div></div></div></div></div>"
      ],
      "text/plain": [
       "Pipeline(steps=[('trans_1',\n",
       "                 ColumnTransformer(remainder='passthrough',\n",
       "                                   transformers=[('simple_imputer',\n",
       "                                                  SimpleImputer(strategy='most_frequent'),\n",
       "                                                  [0, 1, 2, 3, 4, 5, 6, 7, 8, 9,\n",
       "                                                   10, 11, 12])])),\n",
       "                ('trans_2',\n",
       "                 ColumnTransformer(remainder='passthrough',\n",
       "                                   transformers=[('ohe_trans',\n",
       "                                                  OneHotEncoder(handle_unknown='ignore',\n",
       "                                                                sparse_output=False),\n",
       "                                                  [0, 1, 4, 12])])),\n",
       "                ('trans_3',\n",
       "                 ColumnTransformer(remainder='passthrough',\n",
       "                                   transformers=[('scale', StandardScaler(),\n",
       "                                                  slice(0, 12, None))])),\n",
       "                ('trans_4', RandomForestClassifier())])"
      ]
     },
     "execution_count": 231,
     "metadata": {},
     "output_type": "execute_result"
    }
   ],
   "source": [
    "# Training the model\n",
    "pipe.fit(X_train, y_train)"
   ]
  },
  {
   "cell_type": "code",
   "execution_count": 232,
   "metadata": {},
   "outputs": [
    {
     "data": {
      "text/plain": [
       "0.9871677360219981"
      ]
     },
     "execution_count": 232,
     "metadata": {},
     "output_type": "execute_result"
    }
   ],
   "source": [
    "# printing the score\n",
    "pipe.score(X_train, y_train)"
   ]
  },
  {
   "cell_type": "code",
   "execution_count": 233,
   "metadata": {},
   "outputs": [],
   "source": [
    "# predicting thr test dataset\n",
    "y_pred = pipe.predict(X_test)"
   ]
  },
  {
   "cell_type": "code",
   "execution_count": 234,
   "metadata": {},
   "outputs": [],
   "source": [
    "from sklearn.metrics import accuracy_score\n",
    "score = accuracy_score(y_test, y_pred)"
   ]
  },
  {
   "cell_type": "code",
   "execution_count": 235,
   "metadata": {},
   "outputs": [
    {
     "data": {
      "text/plain": [
       "0.2790224032586558"
      ]
     },
     "execution_count": 235,
     "metadata": {},
     "output_type": "execute_result"
    }
   ],
   "source": [
    "score"
   ]
  },
  {
   "cell_type": "code",
   "execution_count": 236,
   "metadata": {},
   "outputs": [
    {
     "data": {
      "text/plain": [
       "0.2790224032586558"
      ]
     },
     "execution_count": 236,
     "metadata": {},
     "output_type": "execute_result"
    }
   ],
   "source": [
    "pipe.score(X_test, y_test)"
   ]
  },
  {
   "attachments": {},
   "cell_type": "markdown",
   "metadata": {},
   "source": [
    "### Exporting the pipeline"
   ]
  },
  {
   "cell_type": "code",
   "execution_count": 237,
   "metadata": {},
   "outputs": [],
   "source": [
    "# export\n",
    "import pickle\n",
    "pickle_out = open('../models/my_model.pkl', 'wb')\n",
    "pickle.dump(pipe, pickle_out)\n",
    "pickle_out.close()\n"
   ]
  },
  {
   "cell_type": "code",
   "execution_count": null,
   "metadata": {},
   "outputs": [],
   "source": [
    "import bz2file as bz2\n",
    "def compressed_pickle(title, data):\n",
    "\n",
    "with bz2.BZ2File('my_‘.pbz2’, ‘w’) as f:\n",
    "    pickle.dump(data, f)\n"
   ]
  },
  {
   "cell_type": "code",
   "execution_count": 240,
   "metadata": {},
   "outputs": [
    {
     "data": {
      "text/plain": [
       "array([469000.])"
      ]
     },
     "execution_count": 240,
     "metadata": {},
     "output_type": "execute_result"
    }
   ],
   "source": [
    "'''['postalcode', 'subtype', 'price', 'bedroom_count', 'habitable_surface',\n",
    "       'kitchen_type', 'furnished', 'fireplace', 'terrace', 'garden',\n",
    "       'garden_surface', 'facades', 'swimmingpool', 'condition']'''\n",
    "pipe.predict([[\"9000\",\"HOUSE\",4,110,\"HYPER_EQUIPPED\",1,0,0,1,20,2,0,\"GOOD\"]])"
   ]
  },
  {
   "cell_type": "code",
   "execution_count": 244,
   "metadata": {},
   "outputs": [
    {
     "ename": "TypeError",
     "evalue": "Forward references must evaluate to types. Got 9000.",
     "output_type": "error",
     "traceback": [
      "\u001b[0;31m---------------------------------------------------------------------------\u001b[0m",
      "\u001b[0;31mTypeError\u001b[0m                                 Traceback (most recent call last)",
      "Cell \u001b[0;32mIn[244], line 8\u001b[0m\n\u001b[1;32m      4\u001b[0m \u001b[39m# Class with required values for the prediction\u001b[39;00m\n\u001b[1;32m      5\u001b[0m \u001b[39m'''['postalcode', 'subtype', 'price', 'bedroom_count', 'habitable_surface',\u001b[39;00m\n\u001b[1;32m      6\u001b[0m \u001b[39m       'kitchen_type', 'furnished', 'fireplace', 'terrace', 'garden',\u001b[39;00m\n\u001b[1;32m      7\u001b[0m \u001b[39m       'garden_surface', 'facades', 'swimmingpool', 'condition']'''\u001b[39;00m\n\u001b[0;32m----> 8\u001b[0m \u001b[39mclass\u001b[39;00m \u001b[39mHouseDetails\u001b[39;00m(BaseModel):\n\u001b[1;32m      9\u001b[0m     postalcode : \u001b[39m\"\u001b[39m\u001b[39m9000\u001b[39m\u001b[39m\"\u001b[39m\n\u001b[1;32m     10\u001b[0m     subtype : \u001b[39m\"\u001b[39m\u001b[39mHOUSE\u001b[39m\u001b[39m\"\u001b[39m\n",
      "File \u001b[0;32m~/Documents/GitHub/Data-visualization-ImmoEliza/model_building_venv/lib/python3.9/site-packages/pydantic/_internal/_model_construction.py:172\u001b[0m, in \u001b[0;36mModelMetaclass.__new__\u001b[0;34m(mcs, cls_name, bases, namespace, __pydantic_generic_metadata__, __pydantic_reset_parent_namespace__, **kwargs)\u001b[0m\n\u001b[1;32m    169\u001b[0m     parent_namespace \u001b[39m=\u001b[39m unpack_lenient_weakvaluedict(parent_namespace)\n\u001b[1;32m    171\u001b[0m types_namespace \u001b[39m=\u001b[39m get_cls_types_namespace(\u001b[39mcls\u001b[39m, parent_namespace)\n\u001b[0;32m--> 172\u001b[0m set_model_fields(\u001b[39mcls\u001b[39;49m, bases, config_wrapper, types_namespace)\n\u001b[1;32m    173\u001b[0m complete_model_class(\n\u001b[1;32m    174\u001b[0m     \u001b[39mcls\u001b[39m,\n\u001b[1;32m    175\u001b[0m     cls_name,\n\u001b[0;32m   (...)\u001b[0m\n\u001b[1;32m    178\u001b[0m     types_namespace\u001b[39m=\u001b[39mtypes_namespace,\n\u001b[1;32m    179\u001b[0m )\n\u001b[1;32m    180\u001b[0m \u001b[39m# using super(cls, cls) on the next line ensures we only call the parent class's __pydantic_init_subclass__\u001b[39;00m\n\u001b[1;32m    181\u001b[0m \u001b[39m# I believe the `type: ignore` is only necessary because mypy doesn't realize that this code branch is\u001b[39;00m\n\u001b[1;32m    182\u001b[0m \u001b[39m# only hit for _proper_ subclasses of BaseModel\u001b[39;00m\n",
      "File \u001b[0;32m~/Documents/GitHub/Data-visualization-ImmoEliza/model_building_venv/lib/python3.9/site-packages/pydantic/_internal/_model_construction.py:400\u001b[0m, in \u001b[0;36mset_model_fields\u001b[0;34m(cls, bases, config_wrapper, types_namespace)\u001b[0m\n\u001b[1;32m    391\u001b[0m \u001b[39m\u001b[39m\u001b[39m\"\"\"Collect and set `cls.model_fields` and `cls.__class_vars__`.\u001b[39;00m\n\u001b[1;32m    392\u001b[0m \n\u001b[1;32m    393\u001b[0m \u001b[39mArgs:\u001b[39;00m\n\u001b[0;32m   (...)\u001b[0m\n\u001b[1;32m    397\u001b[0m \u001b[39m    types_namespace: Optional extra namespace to look for types in.\u001b[39;00m\n\u001b[1;32m    398\u001b[0m \u001b[39m\"\"\"\u001b[39;00m\n\u001b[1;32m    399\u001b[0m typevars_map \u001b[39m=\u001b[39m get_model_typevars_map(\u001b[39mcls\u001b[39m)\n\u001b[0;32m--> 400\u001b[0m fields, class_vars \u001b[39m=\u001b[39m collect_model_fields(\u001b[39mcls\u001b[39;49m, bases, config_wrapper, types_namespace, typevars_map\u001b[39m=\u001b[39;49mtypevars_map)\n\u001b[1;32m    402\u001b[0m \u001b[39mcls\u001b[39m\u001b[39m.\u001b[39mmodel_fields \u001b[39m=\u001b[39m fields\n\u001b[1;32m    403\u001b[0m \u001b[39mcls\u001b[39m\u001b[39m.\u001b[39m__class_vars__\u001b[39m.\u001b[39mupdate(class_vars)\n",
      "File \u001b[0;32m~/Documents/GitHub/Data-visualization-ImmoEliza/model_building_venv/lib/python3.9/site-packages/pydantic/_internal/_fields.py:98\u001b[0m, in \u001b[0;36mcollect_model_fields\u001b[0;34m(cls, bases, config_wrapper, types_namespace, typevars_map)\u001b[0m\n\u001b[1;32m     74\u001b[0m \u001b[39m\u001b[39m\u001b[39m\"\"\"Collect the fields of a nascent pydantic model.\u001b[39;00m\n\u001b[1;32m     75\u001b[0m \n\u001b[1;32m     76\u001b[0m \u001b[39mAlso collect the names of any ClassVars present in the type hints.\u001b[39;00m\n\u001b[0;32m   (...)\u001b[0m\n\u001b[1;32m     94\u001b[0m \u001b[39m        - If a field shadows an attribute in the parent model.\u001b[39;00m\n\u001b[1;32m     95\u001b[0m \u001b[39m\"\"\"\u001b[39;00m\n\u001b[1;32m     96\u001b[0m \u001b[39mfrom\u001b[39;00m \u001b[39m.\u001b[39;00m\u001b[39m.\u001b[39;00m\u001b[39mfields\u001b[39;00m \u001b[39mimport\u001b[39;00m FieldInfo\n\u001b[0;32m---> 98\u001b[0m type_hints \u001b[39m=\u001b[39m get_cls_type_hints_lenient(\u001b[39mcls\u001b[39;49m, types_namespace)\n\u001b[1;32m    100\u001b[0m \u001b[39m# https://docs.python.org/3/howto/annotations.html#accessing-the-annotations-dict-of-an-object-in-python-3-9-and-older\u001b[39;00m\n\u001b[1;32m    101\u001b[0m \u001b[39m# annotations is only used for finding fields in parent classes\u001b[39;00m\n\u001b[1;32m    102\u001b[0m annotations \u001b[39m=\u001b[39m \u001b[39mcls\u001b[39m\u001b[39m.\u001b[39m\u001b[39m__dict__\u001b[39m\u001b[39m.\u001b[39mget(\u001b[39m'\u001b[39m\u001b[39m__annotations__\u001b[39m\u001b[39m'\u001b[39m, {})\n",
      "File \u001b[0;32m~/Documents/GitHub/Data-visualization-ImmoEliza/model_building_venv/lib/python3.9/site-packages/pydantic/_internal/_typing_extra.py:212\u001b[0m, in \u001b[0;36mget_cls_type_hints_lenient\u001b[0;34m(obj, globalns)\u001b[0m\n\u001b[1;32m    210\u001b[0m     \u001b[39mif\u001b[39;00m ann \u001b[39mis\u001b[39;00m \u001b[39mnot\u001b[39;00m \u001b[39mNone\u001b[39;00m \u001b[39mand\u001b[39;00m ann \u001b[39mis\u001b[39;00m \u001b[39mnot\u001b[39;00m GetSetDescriptorType:\n\u001b[1;32m    211\u001b[0m         \u001b[39mfor\u001b[39;00m name, value \u001b[39min\u001b[39;00m ann\u001b[39m.\u001b[39mitems():\n\u001b[0;32m--> 212\u001b[0m             hints[name] \u001b[39m=\u001b[39m eval_type_lenient(value, globalns, localns)\n\u001b[1;32m    213\u001b[0m \u001b[39mreturn\u001b[39;00m hints\n",
      "File \u001b[0;32m~/Documents/GitHub/Data-visualization-ImmoEliza/model_building_venv/lib/python3.9/site-packages/pydantic/_internal/_typing_extra.py:224\u001b[0m, in \u001b[0;36meval_type_lenient\u001b[0;34m(value, globalns, localns)\u001b[0m\n\u001b[1;32m    221\u001b[0m     value \u001b[39m=\u001b[39m _make_forward_ref(value, is_argument\u001b[39m=\u001b[39m\u001b[39mFalse\u001b[39;00m, is_class\u001b[39m=\u001b[39m\u001b[39mTrue\u001b[39;00m)\n\u001b[1;32m    223\u001b[0m \u001b[39mtry\u001b[39;00m:\n\u001b[0;32m--> 224\u001b[0m     \u001b[39mreturn\u001b[39;00m typing\u001b[39m.\u001b[39;49m_eval_type(value, globalns, localns)  \u001b[39m# type: ignore\u001b[39;00m\n\u001b[1;32m    225\u001b[0m \u001b[39mexcept\u001b[39;00m \u001b[39mNameError\u001b[39;00m:\n\u001b[1;32m    226\u001b[0m     \u001b[39m# the point of this function is to be tolerant to this case\u001b[39;00m\n\u001b[1;32m    227\u001b[0m     \u001b[39mreturn\u001b[39;00m value\n",
      "File \u001b[0;32m/Library/Frameworks/Python.framework/Versions/3.9/lib/python3.9/typing.py:283\u001b[0m, in \u001b[0;36m_eval_type\u001b[0;34m(t, globalns, localns, recursive_guard)\u001b[0m\n\u001b[1;32m    277\u001b[0m \u001b[39m\u001b[39m\u001b[39m\"\"\"Evaluate all forward references in the given type t.\u001b[39;00m\n\u001b[1;32m    278\u001b[0m \u001b[39mFor use of globalns and localns see the docstring for get_type_hints().\u001b[39;00m\n\u001b[1;32m    279\u001b[0m \u001b[39mrecursive_guard is used to prevent prevent infinite recursion\u001b[39;00m\n\u001b[1;32m    280\u001b[0m \u001b[39mwith recursive ForwardRef.\u001b[39;00m\n\u001b[1;32m    281\u001b[0m \u001b[39m\"\"\"\u001b[39;00m\n\u001b[1;32m    282\u001b[0m \u001b[39mif\u001b[39;00m \u001b[39misinstance\u001b[39m(t, ForwardRef):\n\u001b[0;32m--> 283\u001b[0m     \u001b[39mreturn\u001b[39;00m t\u001b[39m.\u001b[39;49m_evaluate(globalns, localns, recursive_guard)\n\u001b[1;32m    284\u001b[0m \u001b[39mif\u001b[39;00m \u001b[39misinstance\u001b[39m(t, (_GenericAlias, GenericAlias)):\n\u001b[1;32m    285\u001b[0m     ev_args \u001b[39m=\u001b[39m \u001b[39mtuple\u001b[39m(_eval_type(a, globalns, localns, recursive_guard) \u001b[39mfor\u001b[39;00m a \u001b[39min\u001b[39;00m t\u001b[39m.\u001b[39m__args__)\n",
      "File \u001b[0;32m/Library/Frameworks/Python.framework/Versions/3.9/lib/python3.9/typing.py:538\u001b[0m, in \u001b[0;36mForwardRef._evaluate\u001b[0;34m(self, globalns, localns, recursive_guard)\u001b[0m\n\u001b[1;32m    536\u001b[0m \u001b[39melif\u001b[39;00m localns \u001b[39mis\u001b[39;00m \u001b[39mNone\u001b[39;00m:\n\u001b[1;32m    537\u001b[0m     localns \u001b[39m=\u001b[39m globalns\n\u001b[0;32m--> 538\u001b[0m type_ \u001b[39m=\u001b[39m_type_check(\n\u001b[1;32m    539\u001b[0m     \u001b[39meval\u001b[39;49m(\u001b[39mself\u001b[39;49m\u001b[39m.\u001b[39;49m__forward_code__, globalns, localns),\n\u001b[1;32m    540\u001b[0m     \u001b[39m\"\u001b[39;49m\u001b[39mForward references must evaluate to types.\u001b[39;49m\u001b[39m\"\u001b[39;49m,\n\u001b[1;32m    541\u001b[0m     is_argument\u001b[39m=\u001b[39;49m\u001b[39mself\u001b[39;49m\u001b[39m.\u001b[39;49m__forward_is_argument__,\n\u001b[1;32m    542\u001b[0m )\n\u001b[1;32m    543\u001b[0m \u001b[39mself\u001b[39m\u001b[39m.\u001b[39m__forward_value__ \u001b[39m=\u001b[39m _eval_type(\n\u001b[1;32m    544\u001b[0m     type_, globalns, localns, recursive_guard \u001b[39m|\u001b[39m {\u001b[39mself\u001b[39m\u001b[39m.\u001b[39m__forward_arg__}\n\u001b[1;32m    545\u001b[0m )\n\u001b[1;32m    546\u001b[0m \u001b[39mself\u001b[39m\u001b[39m.\u001b[39m__forward_evaluated__ \u001b[39m=\u001b[39m \u001b[39mTrue\u001b[39;00m\n",
      "File \u001b[0;32m/Library/Frameworks/Python.framework/Versions/3.9/lib/python3.9/typing.py:157\u001b[0m, in \u001b[0;36m_type_check\u001b[0;34m(arg, msg, is_argument)\u001b[0m\n\u001b[1;32m    155\u001b[0m     \u001b[39mreturn\u001b[39;00m arg\n\u001b[1;32m    156\u001b[0m \u001b[39mif\u001b[39;00m \u001b[39mnot\u001b[39;00m \u001b[39mcallable\u001b[39m(arg):\n\u001b[0;32m--> 157\u001b[0m     \u001b[39mraise\u001b[39;00m \u001b[39mTypeError\u001b[39;00m(\u001b[39mf\u001b[39m\u001b[39m\"\u001b[39m\u001b[39m{\u001b[39;00mmsg\u001b[39m}\u001b[39;00m\u001b[39m Got \u001b[39m\u001b[39m{\u001b[39;00marg\u001b[39m!r:\u001b[39;00m\u001b[39m.100\u001b[39m\u001b[39m}\u001b[39;00m\u001b[39m.\u001b[39m\u001b[39m\"\u001b[39m)\n\u001b[1;32m    158\u001b[0m \u001b[39mreturn\u001b[39;00m arg\n",
      "\u001b[0;31mTypeError\u001b[0m: Forward references must evaluate to types. Got 9000."
     ]
    }
   ],
   "source": [
    "from pydantic import BaseModel\n",
    "import json\n",
    "\n",
    "# Class with required values for the prediction\n",
    "'''['postalcode', 'subtype', 'price', 'bedroom_count', 'habitable_surface',\n",
    "       'kitchen_type', 'furnished', 'fireplace', 'terrace', 'garden',\n",
    "       'garden_surface', 'facades', 'swimmingpool', 'condition']'''\n",
    "class HouseDetails(BaseModel):\n",
    "    postalcode : \"9000\"\n",
    "    subtype : \"HOUSE\"\n",
    "    bedroom_count : 2\n",
    "    habitable_surface : 112\n",
    "    kitchen_type : \"HYPER_EQUIPPED\"\n",
    "    furnished : 1\n",
    "    fireplace :0\n",
    "    terrace: 0\n",
    "    garden: 1\n",
    "    garden_surface : 25\n",
    "    facades : 2\n",
    "    swimmingpool : 0\n",
    "    condition : \"GOOD\"\n",
    "\n",
    "\n",
    "    \n",
    "def prediction(input_data : HouseDetails):\n",
    "    input_data = json.loads(input_data.model_dump())\n",
    "    print(input_data)\n",
    "\n",
    "prediction()"
   ]
  }
 ],
 "metadata": {
  "kernelspec": {
   "display_name": "myvenv",
   "language": "python",
   "name": "python3"
  },
  "language_info": {
   "codemirror_mode": {
    "name": "ipython",
    "version": 3
   },
   "file_extension": ".py",
   "mimetype": "text/x-python",
   "name": "python",
   "nbconvert_exporter": "python",
   "pygments_lexer": "ipython3",
   "version": "3.9.5"
  },
  "orig_nbformat": 4
 },
 "nbformat": 4,
 "nbformat_minor": 2
}
